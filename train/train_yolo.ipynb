{
 "cells": [
  {
   "cell_type": "code",
   "execution_count": 1,
   "metadata": {},
   "outputs": [
    {
     "name": "stdout",
     "output_type": "stream",
     "text": [
      "Images found: ['../image_generation/output\\\\synthetic_image_0.jpg', '../image_generation/output\\\\synthetic_image_1.jpg', '../image_generation/output\\\\synthetic_image_10.jpg', '../image_generation/output\\\\synthetic_image_100.jpg', '../image_generation/output\\\\synthetic_image_101.jpg', '../image_generation/output\\\\synthetic_image_102.jpg', '../image_generation/output\\\\synthetic_image_103.jpg', '../image_generation/output\\\\synthetic_image_104.jpg', '../image_generation/output\\\\synthetic_image_105.jpg', '../image_generation/output\\\\synthetic_image_106.jpg', '../image_generation/output\\\\synthetic_image_107.jpg', '../image_generation/output\\\\synthetic_image_108.jpg', '../image_generation/output\\\\synthetic_image_109.jpg', '../image_generation/output\\\\synthetic_image_11.jpg', '../image_generation/output\\\\synthetic_image_110.jpg', '../image_generation/output\\\\synthetic_image_111.jpg', '../image_generation/output\\\\synthetic_image_112.jpg', '../image_generation/output\\\\synthetic_image_113.jpg', '../image_generation/output\\\\synthetic_image_114.jpg', '../image_generation/output\\\\synthetic_image_115.jpg', '../image_generation/output\\\\synthetic_image_116.jpg', '../image_generation/output\\\\synthetic_image_117.jpg', '../image_generation/output\\\\synthetic_image_118.jpg', '../image_generation/output\\\\synthetic_image_119.jpg', '../image_generation/output\\\\synthetic_image_12.jpg', '../image_generation/output\\\\synthetic_image_120.jpg', '../image_generation/output\\\\synthetic_image_121.jpg', '../image_generation/output\\\\synthetic_image_122.jpg', '../image_generation/output\\\\synthetic_image_123.jpg', '../image_generation/output\\\\synthetic_image_124.jpg', '../image_generation/output\\\\synthetic_image_125.jpg', '../image_generation/output\\\\synthetic_image_126.jpg', '../image_generation/output\\\\synthetic_image_127.jpg', '../image_generation/output\\\\synthetic_image_128.jpg', '../image_generation/output\\\\synthetic_image_129.jpg', '../image_generation/output\\\\synthetic_image_13.jpg', '../image_generation/output\\\\synthetic_image_130.jpg', '../image_generation/output\\\\synthetic_image_131.jpg', '../image_generation/output\\\\synthetic_image_132.jpg', '../image_generation/output\\\\synthetic_image_133.jpg', '../image_generation/output\\\\synthetic_image_134.jpg', '../image_generation/output\\\\synthetic_image_135.jpg', '../image_generation/output\\\\synthetic_image_136.jpg', '../image_generation/output\\\\synthetic_image_137.jpg', '../image_generation/output\\\\synthetic_image_138.jpg', '../image_generation/output\\\\synthetic_image_139.jpg', '../image_generation/output\\\\synthetic_image_14.jpg', '../image_generation/output\\\\synthetic_image_140.jpg', '../image_generation/output\\\\synthetic_image_141.jpg', '../image_generation/output\\\\synthetic_image_142.jpg', '../image_generation/output\\\\synthetic_image_143.jpg', '../image_generation/output\\\\synthetic_image_144.jpg', '../image_generation/output\\\\synthetic_image_145.jpg', '../image_generation/output\\\\synthetic_image_146.jpg', '../image_generation/output\\\\synthetic_image_147.jpg', '../image_generation/output\\\\synthetic_image_148.jpg', '../image_generation/output\\\\synthetic_image_149.jpg', '../image_generation/output\\\\synthetic_image_15.jpg', '../image_generation/output\\\\synthetic_image_150.jpg', '../image_generation/output\\\\synthetic_image_151.jpg', '../image_generation/output\\\\synthetic_image_152.jpg', '../image_generation/output\\\\synthetic_image_153.jpg', '../image_generation/output\\\\synthetic_image_154.jpg', '../image_generation/output\\\\synthetic_image_155.jpg', '../image_generation/output\\\\synthetic_image_156.jpg', '../image_generation/output\\\\synthetic_image_157.jpg', '../image_generation/output\\\\synthetic_image_158.jpg', '../image_generation/output\\\\synthetic_image_159.jpg', '../image_generation/output\\\\synthetic_image_16.jpg', '../image_generation/output\\\\synthetic_image_160.jpg', '../image_generation/output\\\\synthetic_image_161.jpg', '../image_generation/output\\\\synthetic_image_162.jpg', '../image_generation/output\\\\synthetic_image_163.jpg', '../image_generation/output\\\\synthetic_image_164.jpg', '../image_generation/output\\\\synthetic_image_165.jpg', '../image_generation/output\\\\synthetic_image_166.jpg', '../image_generation/output\\\\synthetic_image_167.jpg', '../image_generation/output\\\\synthetic_image_168.jpg', '../image_generation/output\\\\synthetic_image_169.jpg', '../image_generation/output\\\\synthetic_image_17.jpg', '../image_generation/output\\\\synthetic_image_170.jpg', '../image_generation/output\\\\synthetic_image_171.jpg', '../image_generation/output\\\\synthetic_image_172.jpg', '../image_generation/output\\\\synthetic_image_173.jpg', '../image_generation/output\\\\synthetic_image_174.jpg', '../image_generation/output\\\\synthetic_image_175.jpg', '../image_generation/output\\\\synthetic_image_176.jpg', '../image_generation/output\\\\synthetic_image_177.jpg', '../image_generation/output\\\\synthetic_image_178.jpg', '../image_generation/output\\\\synthetic_image_179.jpg', '../image_generation/output\\\\synthetic_image_18.jpg', '../image_generation/output\\\\synthetic_image_180.jpg', '../image_generation/output\\\\synthetic_image_181.jpg', '../image_generation/output\\\\synthetic_image_182.jpg', '../image_generation/output\\\\synthetic_image_183.jpg', '../image_generation/output\\\\synthetic_image_184.jpg', '../image_generation/output\\\\synthetic_image_185.jpg', '../image_generation/output\\\\synthetic_image_186.jpg', '../image_generation/output\\\\synthetic_image_187.jpg', '../image_generation/output\\\\synthetic_image_188.jpg', '../image_generation/output\\\\synthetic_image_189.jpg', '../image_generation/output\\\\synthetic_image_19.jpg', '../image_generation/output\\\\synthetic_image_190.jpg', '../image_generation/output\\\\synthetic_image_191.jpg', '../image_generation/output\\\\synthetic_image_192.jpg', '../image_generation/output\\\\synthetic_image_193.jpg', '../image_generation/output\\\\synthetic_image_194.jpg', '../image_generation/output\\\\synthetic_image_195.jpg', '../image_generation/output\\\\synthetic_image_196.jpg', '../image_generation/output\\\\synthetic_image_197.jpg', '../image_generation/output\\\\synthetic_image_198.jpg', '../image_generation/output\\\\synthetic_image_199.jpg', '../image_generation/output\\\\synthetic_image_2.jpg', '../image_generation/output\\\\synthetic_image_20.jpg', '../image_generation/output\\\\synthetic_image_200.jpg', '../image_generation/output\\\\synthetic_image_201.jpg', '../image_generation/output\\\\synthetic_image_202.jpg', '../image_generation/output\\\\synthetic_image_203.jpg', '../image_generation/output\\\\synthetic_image_204.jpg', '../image_generation/output\\\\synthetic_image_205.jpg', '../image_generation/output\\\\synthetic_image_206.jpg', '../image_generation/output\\\\synthetic_image_207.jpg', '../image_generation/output\\\\synthetic_image_208.jpg', '../image_generation/output\\\\synthetic_image_209.jpg', '../image_generation/output\\\\synthetic_image_21.jpg', '../image_generation/output\\\\synthetic_image_210.jpg', '../image_generation/output\\\\synthetic_image_211.jpg', '../image_generation/output\\\\synthetic_image_212.jpg', '../image_generation/output\\\\synthetic_image_213.jpg', '../image_generation/output\\\\synthetic_image_214.jpg', '../image_generation/output\\\\synthetic_image_215.jpg', '../image_generation/output\\\\synthetic_image_216.jpg', '../image_generation/output\\\\synthetic_image_217.jpg', '../image_generation/output\\\\synthetic_image_218.jpg', '../image_generation/output\\\\synthetic_image_219.jpg', '../image_generation/output\\\\synthetic_image_22.jpg', '../image_generation/output\\\\synthetic_image_220.jpg', '../image_generation/output\\\\synthetic_image_221.jpg', '../image_generation/output\\\\synthetic_image_222.jpg', '../image_generation/output\\\\synthetic_image_223.jpg', '../image_generation/output\\\\synthetic_image_224.jpg', '../image_generation/output\\\\synthetic_image_225.jpg', '../image_generation/output\\\\synthetic_image_226.jpg', '../image_generation/output\\\\synthetic_image_227.jpg', '../image_generation/output\\\\synthetic_image_228.jpg', '../image_generation/output\\\\synthetic_image_229.jpg', '../image_generation/output\\\\synthetic_image_23.jpg', '../image_generation/output\\\\synthetic_image_230.jpg', '../image_generation/output\\\\synthetic_image_231.jpg', '../image_generation/output\\\\synthetic_image_232.jpg', '../image_generation/output\\\\synthetic_image_233.jpg', '../image_generation/output\\\\synthetic_image_234.jpg', '../image_generation/output\\\\synthetic_image_235.jpg', '../image_generation/output\\\\synthetic_image_236.jpg', '../image_generation/output\\\\synthetic_image_237.jpg', '../image_generation/output\\\\synthetic_image_238.jpg', '../image_generation/output\\\\synthetic_image_239.jpg', '../image_generation/output\\\\synthetic_image_24.jpg', '../image_generation/output\\\\synthetic_image_240.jpg', '../image_generation/output\\\\synthetic_image_241.jpg', '../image_generation/output\\\\synthetic_image_242.jpg', '../image_generation/output\\\\synthetic_image_243.jpg', '../image_generation/output\\\\synthetic_image_244.jpg', '../image_generation/output\\\\synthetic_image_245.jpg', '../image_generation/output\\\\synthetic_image_246.jpg', '../image_generation/output\\\\synthetic_image_247.jpg', '../image_generation/output\\\\synthetic_image_248.jpg', '../image_generation/output\\\\synthetic_image_249.jpg', '../image_generation/output\\\\synthetic_image_25.jpg', '../image_generation/output\\\\synthetic_image_250.jpg', '../image_generation/output\\\\synthetic_image_251.jpg', '../image_generation/output\\\\synthetic_image_252.jpg', '../image_generation/output\\\\synthetic_image_253.jpg', '../image_generation/output\\\\synthetic_image_254.jpg', '../image_generation/output\\\\synthetic_image_255.jpg', '../image_generation/output\\\\synthetic_image_256.jpg', '../image_generation/output\\\\synthetic_image_257.jpg', '../image_generation/output\\\\synthetic_image_258.jpg', '../image_generation/output\\\\synthetic_image_259.jpg', '../image_generation/output\\\\synthetic_image_26.jpg', '../image_generation/output\\\\synthetic_image_260.jpg', '../image_generation/output\\\\synthetic_image_261.jpg', '../image_generation/output\\\\synthetic_image_262.jpg', '../image_generation/output\\\\synthetic_image_263.jpg', '../image_generation/output\\\\synthetic_image_264.jpg', '../image_generation/output\\\\synthetic_image_265.jpg', '../image_generation/output\\\\synthetic_image_266.jpg', '../image_generation/output\\\\synthetic_image_267.jpg', '../image_generation/output\\\\synthetic_image_268.jpg', '../image_generation/output\\\\synthetic_image_269.jpg', '../image_generation/output\\\\synthetic_image_27.jpg', '../image_generation/output\\\\synthetic_image_270.jpg', '../image_generation/output\\\\synthetic_image_271.jpg', '../image_generation/output\\\\synthetic_image_272.jpg', '../image_generation/output\\\\synthetic_image_273.jpg', '../image_generation/output\\\\synthetic_image_274.jpg', '../image_generation/output\\\\synthetic_image_275.jpg', '../image_generation/output\\\\synthetic_image_276.jpg', '../image_generation/output\\\\synthetic_image_277.jpg', '../image_generation/output\\\\synthetic_image_278.jpg', '../image_generation/output\\\\synthetic_image_279.jpg', '../image_generation/output\\\\synthetic_image_28.jpg', '../image_generation/output\\\\synthetic_image_280.jpg', '../image_generation/output\\\\synthetic_image_281.jpg', '../image_generation/output\\\\synthetic_image_282.jpg', '../image_generation/output\\\\synthetic_image_283.jpg', '../image_generation/output\\\\synthetic_image_284.jpg', '../image_generation/output\\\\synthetic_image_285.jpg', '../image_generation/output\\\\synthetic_image_286.jpg', '../image_generation/output\\\\synthetic_image_287.jpg', '../image_generation/output\\\\synthetic_image_288.jpg', '../image_generation/output\\\\synthetic_image_289.jpg', '../image_generation/output\\\\synthetic_image_29.jpg', '../image_generation/output\\\\synthetic_image_290.jpg', '../image_generation/output\\\\synthetic_image_291.jpg', '../image_generation/output\\\\synthetic_image_292.jpg', '../image_generation/output\\\\synthetic_image_293.jpg', '../image_generation/output\\\\synthetic_image_294.jpg', '../image_generation/output\\\\synthetic_image_295.jpg', '../image_generation/output\\\\synthetic_image_296.jpg', '../image_generation/output\\\\synthetic_image_297.jpg', '../image_generation/output\\\\synthetic_image_298.jpg', '../image_generation/output\\\\synthetic_image_299.jpg', '../image_generation/output\\\\synthetic_image_3.jpg', '../image_generation/output\\\\synthetic_image_30.jpg', '../image_generation/output\\\\synthetic_image_300.jpg', '../image_generation/output\\\\synthetic_image_301.jpg', '../image_generation/output\\\\synthetic_image_302.jpg', '../image_generation/output\\\\synthetic_image_303.jpg', '../image_generation/output\\\\synthetic_image_304.jpg', '../image_generation/output\\\\synthetic_image_305.jpg', '../image_generation/output\\\\synthetic_image_306.jpg', '../image_generation/output\\\\synthetic_image_307.jpg', '../image_generation/output\\\\synthetic_image_308.jpg', '../image_generation/output\\\\synthetic_image_309.jpg', '../image_generation/output\\\\synthetic_image_31.jpg', '../image_generation/output\\\\synthetic_image_310.jpg', '../image_generation/output\\\\synthetic_image_311.jpg', '../image_generation/output\\\\synthetic_image_312.jpg', '../image_generation/output\\\\synthetic_image_313.jpg', '../image_generation/output\\\\synthetic_image_314.jpg', '../image_generation/output\\\\synthetic_image_315.jpg', '../image_generation/output\\\\synthetic_image_316.jpg', '../image_generation/output\\\\synthetic_image_317.jpg', '../image_generation/output\\\\synthetic_image_318.jpg', '../image_generation/output\\\\synthetic_image_319.jpg', '../image_generation/output\\\\synthetic_image_32.jpg', '../image_generation/output\\\\synthetic_image_320.jpg', '../image_generation/output\\\\synthetic_image_321.jpg', '../image_generation/output\\\\synthetic_image_322.jpg', '../image_generation/output\\\\synthetic_image_323.jpg', '../image_generation/output\\\\synthetic_image_324.jpg', '../image_generation/output\\\\synthetic_image_325.jpg', '../image_generation/output\\\\synthetic_image_326.jpg', '../image_generation/output\\\\synthetic_image_327.jpg', '../image_generation/output\\\\synthetic_image_328.jpg', '../image_generation/output\\\\synthetic_image_329.jpg', '../image_generation/output\\\\synthetic_image_33.jpg', '../image_generation/output\\\\synthetic_image_330.jpg', '../image_generation/output\\\\synthetic_image_331.jpg', '../image_generation/output\\\\synthetic_image_332.jpg', '../image_generation/output\\\\synthetic_image_333.jpg', '../image_generation/output\\\\synthetic_image_334.jpg', '../image_generation/output\\\\synthetic_image_335.jpg', '../image_generation/output\\\\synthetic_image_336.jpg', '../image_generation/output\\\\synthetic_image_337.jpg', '../image_generation/output\\\\synthetic_image_338.jpg', '../image_generation/output\\\\synthetic_image_339.jpg', '../image_generation/output\\\\synthetic_image_34.jpg', '../image_generation/output\\\\synthetic_image_340.jpg', '../image_generation/output\\\\synthetic_image_341.jpg', '../image_generation/output\\\\synthetic_image_342.jpg', '../image_generation/output\\\\synthetic_image_343.jpg', '../image_generation/output\\\\synthetic_image_344.jpg', '../image_generation/output\\\\synthetic_image_345.jpg', '../image_generation/output\\\\synthetic_image_346.jpg', '../image_generation/output\\\\synthetic_image_347.jpg', '../image_generation/output\\\\synthetic_image_348.jpg', '../image_generation/output\\\\synthetic_image_349.jpg', '../image_generation/output\\\\synthetic_image_35.jpg', '../image_generation/output\\\\synthetic_image_350.jpg', '../image_generation/output\\\\synthetic_image_351.jpg', '../image_generation/output\\\\synthetic_image_352.jpg', '../image_generation/output\\\\synthetic_image_353.jpg', '../image_generation/output\\\\synthetic_image_354.jpg', '../image_generation/output\\\\synthetic_image_355.jpg', '../image_generation/output\\\\synthetic_image_356.jpg', '../image_generation/output\\\\synthetic_image_357.jpg', '../image_generation/output\\\\synthetic_image_358.jpg', '../image_generation/output\\\\synthetic_image_359.jpg', '../image_generation/output\\\\synthetic_image_36.jpg', '../image_generation/output\\\\synthetic_image_360.jpg', '../image_generation/output\\\\synthetic_image_361.jpg', '../image_generation/output\\\\synthetic_image_362.jpg', '../image_generation/output\\\\synthetic_image_363.jpg', '../image_generation/output\\\\synthetic_image_364.jpg', '../image_generation/output\\\\synthetic_image_365.jpg', '../image_generation/output\\\\synthetic_image_366.jpg', '../image_generation/output\\\\synthetic_image_367.jpg', '../image_generation/output\\\\synthetic_image_368.jpg', '../image_generation/output\\\\synthetic_image_369.jpg', '../image_generation/output\\\\synthetic_image_37.jpg', '../image_generation/output\\\\synthetic_image_370.jpg', '../image_generation/output\\\\synthetic_image_371.jpg', '../image_generation/output\\\\synthetic_image_372.jpg', '../image_generation/output\\\\synthetic_image_373.jpg', '../image_generation/output\\\\synthetic_image_374.jpg', '../image_generation/output\\\\synthetic_image_375.jpg', '../image_generation/output\\\\synthetic_image_376.jpg', '../image_generation/output\\\\synthetic_image_377.jpg', '../image_generation/output\\\\synthetic_image_378.jpg', '../image_generation/output\\\\synthetic_image_379.jpg', '../image_generation/output\\\\synthetic_image_38.jpg', '../image_generation/output\\\\synthetic_image_380.jpg', '../image_generation/output\\\\synthetic_image_381.jpg', '../image_generation/output\\\\synthetic_image_382.jpg', '../image_generation/output\\\\synthetic_image_383.jpg', '../image_generation/output\\\\synthetic_image_384.jpg', '../image_generation/output\\\\synthetic_image_385.jpg', '../image_generation/output\\\\synthetic_image_386.jpg', '../image_generation/output\\\\synthetic_image_387.jpg', '../image_generation/output\\\\synthetic_image_388.jpg', '../image_generation/output\\\\synthetic_image_389.jpg', '../image_generation/output\\\\synthetic_image_39.jpg', '../image_generation/output\\\\synthetic_image_390.jpg', '../image_generation/output\\\\synthetic_image_391.jpg', '../image_generation/output\\\\synthetic_image_392.jpg', '../image_generation/output\\\\synthetic_image_393.jpg', '../image_generation/output\\\\synthetic_image_394.jpg', '../image_generation/output\\\\synthetic_image_395.jpg', '../image_generation/output\\\\synthetic_image_396.jpg', '../image_generation/output\\\\synthetic_image_397.jpg', '../image_generation/output\\\\synthetic_image_398.jpg', '../image_generation/output\\\\synthetic_image_399.jpg', '../image_generation/output\\\\synthetic_image_4.jpg', '../image_generation/output\\\\synthetic_image_40.jpg', '../image_generation/output\\\\synthetic_image_41.jpg', '../image_generation/output\\\\synthetic_image_42.jpg', '../image_generation/output\\\\synthetic_image_43.jpg', '../image_generation/output\\\\synthetic_image_44.jpg', '../image_generation/output\\\\synthetic_image_45.jpg', '../image_generation/output\\\\synthetic_image_46.jpg', '../image_generation/output\\\\synthetic_image_47.jpg', '../image_generation/output\\\\synthetic_image_48.jpg', '../image_generation/output\\\\synthetic_image_49.jpg', '../image_generation/output\\\\synthetic_image_5.jpg', '../image_generation/output\\\\synthetic_image_50.jpg', '../image_generation/output\\\\synthetic_image_51.jpg', '../image_generation/output\\\\synthetic_image_52.jpg', '../image_generation/output\\\\synthetic_image_53.jpg', '../image_generation/output\\\\synthetic_image_54.jpg', '../image_generation/output\\\\synthetic_image_55.jpg', '../image_generation/output\\\\synthetic_image_56.jpg', '../image_generation/output\\\\synthetic_image_57.jpg', '../image_generation/output\\\\synthetic_image_58.jpg', '../image_generation/output\\\\synthetic_image_59.jpg', '../image_generation/output\\\\synthetic_image_6.jpg', '../image_generation/output\\\\synthetic_image_60.jpg', '../image_generation/output\\\\synthetic_image_61.jpg', '../image_generation/output\\\\synthetic_image_62.jpg', '../image_generation/output\\\\synthetic_image_63.jpg', '../image_generation/output\\\\synthetic_image_64.jpg', '../image_generation/output\\\\synthetic_image_65.jpg', '../image_generation/output\\\\synthetic_image_66.jpg', '../image_generation/output\\\\synthetic_image_67.jpg', '../image_generation/output\\\\synthetic_image_68.jpg', '../image_generation/output\\\\synthetic_image_69.jpg', '../image_generation/output\\\\synthetic_image_7.jpg', '../image_generation/output\\\\synthetic_image_70.jpg', '../image_generation/output\\\\synthetic_image_71.jpg', '../image_generation/output\\\\synthetic_image_72.jpg', '../image_generation/output\\\\synthetic_image_73.jpg', '../image_generation/output\\\\synthetic_image_74.jpg', '../image_generation/output\\\\synthetic_image_75.jpg', '../image_generation/output\\\\synthetic_image_76.jpg', '../image_generation/output\\\\synthetic_image_77.jpg', '../image_generation/output\\\\synthetic_image_78.jpg', '../image_generation/output\\\\synthetic_image_79.jpg', '../image_generation/output\\\\synthetic_image_8.jpg', '../image_generation/output\\\\synthetic_image_80.jpg', '../image_generation/output\\\\synthetic_image_81.jpg', '../image_generation/output\\\\synthetic_image_82.jpg', '../image_generation/output\\\\synthetic_image_83.jpg', '../image_generation/output\\\\synthetic_image_84.jpg', '../image_generation/output\\\\synthetic_image_85.jpg', '../image_generation/output\\\\synthetic_image_86.jpg', '../image_generation/output\\\\synthetic_image_87.jpg', '../image_generation/output\\\\synthetic_image_88.jpg', '../image_generation/output\\\\synthetic_image_89.jpg', '../image_generation/output\\\\synthetic_image_9.jpg', '../image_generation/output\\\\synthetic_image_90.jpg', '../image_generation/output\\\\synthetic_image_91.jpg', '../image_generation/output\\\\synthetic_image_92.jpg', '../image_generation/output\\\\synthetic_image_93.jpg', '../image_generation/output\\\\synthetic_image_94.jpg', '../image_generation/output\\\\synthetic_image_95.jpg', '../image_generation/output\\\\synthetic_image_96.jpg', '../image_generation/output\\\\synthetic_image_97.jpg', '../image_generation/output\\\\synthetic_image_98.jpg', '../image_generation/output\\\\synthetic_image_99.jpg']\n",
      "Labels found: ['../image_generation/output\\\\synthetic_image_0.txt', '../image_generation/output\\\\synthetic_image_1.txt', '../image_generation/output\\\\synthetic_image_10.txt', '../image_generation/output\\\\synthetic_image_100.txt', '../image_generation/output\\\\synthetic_image_101.txt', '../image_generation/output\\\\synthetic_image_102.txt', '../image_generation/output\\\\synthetic_image_103.txt', '../image_generation/output\\\\synthetic_image_104.txt', '../image_generation/output\\\\synthetic_image_105.txt', '../image_generation/output\\\\synthetic_image_106.txt', '../image_generation/output\\\\synthetic_image_107.txt', '../image_generation/output\\\\synthetic_image_108.txt', '../image_generation/output\\\\synthetic_image_109.txt', '../image_generation/output\\\\synthetic_image_11.txt', '../image_generation/output\\\\synthetic_image_110.txt', '../image_generation/output\\\\synthetic_image_111.txt', '../image_generation/output\\\\synthetic_image_112.txt', '../image_generation/output\\\\synthetic_image_113.txt', '../image_generation/output\\\\synthetic_image_114.txt', '../image_generation/output\\\\synthetic_image_115.txt', '../image_generation/output\\\\synthetic_image_116.txt', '../image_generation/output\\\\synthetic_image_117.txt', '../image_generation/output\\\\synthetic_image_118.txt', '../image_generation/output\\\\synthetic_image_119.txt', '../image_generation/output\\\\synthetic_image_12.txt', '../image_generation/output\\\\synthetic_image_120.txt', '../image_generation/output\\\\synthetic_image_121.txt', '../image_generation/output\\\\synthetic_image_122.txt', '../image_generation/output\\\\synthetic_image_123.txt', '../image_generation/output\\\\synthetic_image_124.txt', '../image_generation/output\\\\synthetic_image_125.txt', '../image_generation/output\\\\synthetic_image_126.txt', '../image_generation/output\\\\synthetic_image_127.txt', '../image_generation/output\\\\synthetic_image_128.txt', '../image_generation/output\\\\synthetic_image_129.txt', '../image_generation/output\\\\synthetic_image_13.txt', '../image_generation/output\\\\synthetic_image_130.txt', '../image_generation/output\\\\synthetic_image_131.txt', '../image_generation/output\\\\synthetic_image_132.txt', '../image_generation/output\\\\synthetic_image_133.txt', '../image_generation/output\\\\synthetic_image_134.txt', '../image_generation/output\\\\synthetic_image_135.txt', '../image_generation/output\\\\synthetic_image_136.txt', '../image_generation/output\\\\synthetic_image_137.txt', '../image_generation/output\\\\synthetic_image_138.txt', '../image_generation/output\\\\synthetic_image_139.txt', '../image_generation/output\\\\synthetic_image_14.txt', '../image_generation/output\\\\synthetic_image_140.txt', '../image_generation/output\\\\synthetic_image_141.txt', '../image_generation/output\\\\synthetic_image_142.txt', '../image_generation/output\\\\synthetic_image_143.txt', '../image_generation/output\\\\synthetic_image_144.txt', '../image_generation/output\\\\synthetic_image_145.txt', '../image_generation/output\\\\synthetic_image_146.txt', '../image_generation/output\\\\synthetic_image_147.txt', '../image_generation/output\\\\synthetic_image_148.txt', '../image_generation/output\\\\synthetic_image_149.txt', '../image_generation/output\\\\synthetic_image_15.txt', '../image_generation/output\\\\synthetic_image_150.txt', '../image_generation/output\\\\synthetic_image_151.txt', '../image_generation/output\\\\synthetic_image_152.txt', '../image_generation/output\\\\synthetic_image_153.txt', '../image_generation/output\\\\synthetic_image_154.txt', '../image_generation/output\\\\synthetic_image_155.txt', '../image_generation/output\\\\synthetic_image_156.txt', '../image_generation/output\\\\synthetic_image_157.txt', '../image_generation/output\\\\synthetic_image_158.txt', '../image_generation/output\\\\synthetic_image_159.txt', '../image_generation/output\\\\synthetic_image_16.txt', '../image_generation/output\\\\synthetic_image_160.txt', '../image_generation/output\\\\synthetic_image_161.txt', '../image_generation/output\\\\synthetic_image_162.txt', '../image_generation/output\\\\synthetic_image_163.txt', '../image_generation/output\\\\synthetic_image_164.txt', '../image_generation/output\\\\synthetic_image_165.txt', '../image_generation/output\\\\synthetic_image_166.txt', '../image_generation/output\\\\synthetic_image_167.txt', '../image_generation/output\\\\synthetic_image_168.txt', '../image_generation/output\\\\synthetic_image_169.txt', '../image_generation/output\\\\synthetic_image_17.txt', '../image_generation/output\\\\synthetic_image_170.txt', '../image_generation/output\\\\synthetic_image_171.txt', '../image_generation/output\\\\synthetic_image_172.txt', '../image_generation/output\\\\synthetic_image_173.txt', '../image_generation/output\\\\synthetic_image_174.txt', '../image_generation/output\\\\synthetic_image_175.txt', '../image_generation/output\\\\synthetic_image_176.txt', '../image_generation/output\\\\synthetic_image_177.txt', '../image_generation/output\\\\synthetic_image_178.txt', '../image_generation/output\\\\synthetic_image_179.txt', '../image_generation/output\\\\synthetic_image_18.txt', '../image_generation/output\\\\synthetic_image_180.txt', '../image_generation/output\\\\synthetic_image_181.txt', '../image_generation/output\\\\synthetic_image_182.txt', '../image_generation/output\\\\synthetic_image_183.txt', '../image_generation/output\\\\synthetic_image_184.txt', '../image_generation/output\\\\synthetic_image_185.txt', '../image_generation/output\\\\synthetic_image_186.txt', '../image_generation/output\\\\synthetic_image_187.txt', '../image_generation/output\\\\synthetic_image_188.txt', '../image_generation/output\\\\synthetic_image_189.txt', '../image_generation/output\\\\synthetic_image_19.txt', '../image_generation/output\\\\synthetic_image_190.txt', '../image_generation/output\\\\synthetic_image_191.txt', '../image_generation/output\\\\synthetic_image_192.txt', '../image_generation/output\\\\synthetic_image_193.txt', '../image_generation/output\\\\synthetic_image_194.txt', '../image_generation/output\\\\synthetic_image_195.txt', '../image_generation/output\\\\synthetic_image_196.txt', '../image_generation/output\\\\synthetic_image_197.txt', '../image_generation/output\\\\synthetic_image_198.txt', '../image_generation/output\\\\synthetic_image_199.txt', '../image_generation/output\\\\synthetic_image_2.txt', '../image_generation/output\\\\synthetic_image_20.txt', '../image_generation/output\\\\synthetic_image_200.txt', '../image_generation/output\\\\synthetic_image_201.txt', '../image_generation/output\\\\synthetic_image_202.txt', '../image_generation/output\\\\synthetic_image_203.txt', '../image_generation/output\\\\synthetic_image_204.txt', '../image_generation/output\\\\synthetic_image_205.txt', '../image_generation/output\\\\synthetic_image_206.txt', '../image_generation/output\\\\synthetic_image_207.txt', '../image_generation/output\\\\synthetic_image_208.txt', '../image_generation/output\\\\synthetic_image_209.txt', '../image_generation/output\\\\synthetic_image_21.txt', '../image_generation/output\\\\synthetic_image_210.txt', '../image_generation/output\\\\synthetic_image_211.txt', '../image_generation/output\\\\synthetic_image_212.txt', '../image_generation/output\\\\synthetic_image_213.txt', '../image_generation/output\\\\synthetic_image_214.txt', '../image_generation/output\\\\synthetic_image_215.txt', '../image_generation/output\\\\synthetic_image_216.txt', '../image_generation/output\\\\synthetic_image_217.txt', '../image_generation/output\\\\synthetic_image_218.txt', '../image_generation/output\\\\synthetic_image_219.txt', '../image_generation/output\\\\synthetic_image_22.txt', '../image_generation/output\\\\synthetic_image_220.txt', '../image_generation/output\\\\synthetic_image_221.txt', '../image_generation/output\\\\synthetic_image_222.txt', '../image_generation/output\\\\synthetic_image_223.txt', '../image_generation/output\\\\synthetic_image_224.txt', '../image_generation/output\\\\synthetic_image_225.txt', '../image_generation/output\\\\synthetic_image_226.txt', '../image_generation/output\\\\synthetic_image_227.txt', '../image_generation/output\\\\synthetic_image_228.txt', '../image_generation/output\\\\synthetic_image_229.txt', '../image_generation/output\\\\synthetic_image_23.txt', '../image_generation/output\\\\synthetic_image_230.txt', '../image_generation/output\\\\synthetic_image_231.txt', '../image_generation/output\\\\synthetic_image_232.txt', '../image_generation/output\\\\synthetic_image_233.txt', '../image_generation/output\\\\synthetic_image_234.txt', '../image_generation/output\\\\synthetic_image_235.txt', '../image_generation/output\\\\synthetic_image_236.txt', '../image_generation/output\\\\synthetic_image_237.txt', '../image_generation/output\\\\synthetic_image_238.txt', '../image_generation/output\\\\synthetic_image_239.txt', '../image_generation/output\\\\synthetic_image_24.txt', '../image_generation/output\\\\synthetic_image_240.txt', '../image_generation/output\\\\synthetic_image_241.txt', '../image_generation/output\\\\synthetic_image_242.txt', '../image_generation/output\\\\synthetic_image_243.txt', '../image_generation/output\\\\synthetic_image_244.txt', '../image_generation/output\\\\synthetic_image_245.txt', '../image_generation/output\\\\synthetic_image_246.txt', '../image_generation/output\\\\synthetic_image_247.txt', '../image_generation/output\\\\synthetic_image_248.txt', '../image_generation/output\\\\synthetic_image_249.txt', '../image_generation/output\\\\synthetic_image_25.txt', '../image_generation/output\\\\synthetic_image_250.txt', '../image_generation/output\\\\synthetic_image_251.txt', '../image_generation/output\\\\synthetic_image_252.txt', '../image_generation/output\\\\synthetic_image_253.txt', '../image_generation/output\\\\synthetic_image_254.txt', '../image_generation/output\\\\synthetic_image_255.txt', '../image_generation/output\\\\synthetic_image_256.txt', '../image_generation/output\\\\synthetic_image_257.txt', '../image_generation/output\\\\synthetic_image_258.txt', '../image_generation/output\\\\synthetic_image_259.txt', '../image_generation/output\\\\synthetic_image_26.txt', '../image_generation/output\\\\synthetic_image_260.txt', '../image_generation/output\\\\synthetic_image_261.txt', '../image_generation/output\\\\synthetic_image_262.txt', '../image_generation/output\\\\synthetic_image_263.txt', '../image_generation/output\\\\synthetic_image_264.txt', '../image_generation/output\\\\synthetic_image_265.txt', '../image_generation/output\\\\synthetic_image_266.txt', '../image_generation/output\\\\synthetic_image_267.txt', '../image_generation/output\\\\synthetic_image_268.txt', '../image_generation/output\\\\synthetic_image_269.txt', '../image_generation/output\\\\synthetic_image_27.txt', '../image_generation/output\\\\synthetic_image_270.txt', '../image_generation/output\\\\synthetic_image_271.txt', '../image_generation/output\\\\synthetic_image_272.txt', '../image_generation/output\\\\synthetic_image_273.txt', '../image_generation/output\\\\synthetic_image_274.txt', '../image_generation/output\\\\synthetic_image_275.txt', '../image_generation/output\\\\synthetic_image_276.txt', '../image_generation/output\\\\synthetic_image_277.txt', '../image_generation/output\\\\synthetic_image_278.txt', '../image_generation/output\\\\synthetic_image_279.txt', '../image_generation/output\\\\synthetic_image_28.txt', '../image_generation/output\\\\synthetic_image_280.txt', '../image_generation/output\\\\synthetic_image_281.txt', '../image_generation/output\\\\synthetic_image_282.txt', '../image_generation/output\\\\synthetic_image_283.txt', '../image_generation/output\\\\synthetic_image_284.txt', '../image_generation/output\\\\synthetic_image_285.txt', '../image_generation/output\\\\synthetic_image_286.txt', '../image_generation/output\\\\synthetic_image_287.txt', '../image_generation/output\\\\synthetic_image_288.txt', '../image_generation/output\\\\synthetic_image_289.txt', '../image_generation/output\\\\synthetic_image_29.txt', '../image_generation/output\\\\synthetic_image_290.txt', '../image_generation/output\\\\synthetic_image_291.txt', '../image_generation/output\\\\synthetic_image_292.txt', '../image_generation/output\\\\synthetic_image_293.txt', '../image_generation/output\\\\synthetic_image_294.txt', '../image_generation/output\\\\synthetic_image_295.txt', '../image_generation/output\\\\synthetic_image_296.txt', '../image_generation/output\\\\synthetic_image_297.txt', '../image_generation/output\\\\synthetic_image_298.txt', '../image_generation/output\\\\synthetic_image_299.txt', '../image_generation/output\\\\synthetic_image_3.txt', '../image_generation/output\\\\synthetic_image_30.txt', '../image_generation/output\\\\synthetic_image_300.txt', '../image_generation/output\\\\synthetic_image_301.txt', '../image_generation/output\\\\synthetic_image_302.txt', '../image_generation/output\\\\synthetic_image_303.txt', '../image_generation/output\\\\synthetic_image_304.txt', '../image_generation/output\\\\synthetic_image_305.txt', '../image_generation/output\\\\synthetic_image_306.txt', '../image_generation/output\\\\synthetic_image_307.txt', '../image_generation/output\\\\synthetic_image_308.txt', '../image_generation/output\\\\synthetic_image_309.txt', '../image_generation/output\\\\synthetic_image_31.txt', '../image_generation/output\\\\synthetic_image_310.txt', '../image_generation/output\\\\synthetic_image_311.txt', '../image_generation/output\\\\synthetic_image_312.txt', '../image_generation/output\\\\synthetic_image_313.txt', '../image_generation/output\\\\synthetic_image_314.txt', '../image_generation/output\\\\synthetic_image_315.txt', '../image_generation/output\\\\synthetic_image_316.txt', '../image_generation/output\\\\synthetic_image_317.txt', '../image_generation/output\\\\synthetic_image_318.txt', '../image_generation/output\\\\synthetic_image_319.txt', '../image_generation/output\\\\synthetic_image_32.txt', '../image_generation/output\\\\synthetic_image_320.txt', '../image_generation/output\\\\synthetic_image_321.txt', '../image_generation/output\\\\synthetic_image_322.txt', '../image_generation/output\\\\synthetic_image_323.txt', '../image_generation/output\\\\synthetic_image_324.txt', '../image_generation/output\\\\synthetic_image_325.txt', '../image_generation/output\\\\synthetic_image_326.txt', '../image_generation/output\\\\synthetic_image_327.txt', '../image_generation/output\\\\synthetic_image_328.txt', '../image_generation/output\\\\synthetic_image_329.txt', '../image_generation/output\\\\synthetic_image_33.txt', '../image_generation/output\\\\synthetic_image_330.txt', '../image_generation/output\\\\synthetic_image_331.txt', '../image_generation/output\\\\synthetic_image_332.txt', '../image_generation/output\\\\synthetic_image_333.txt', '../image_generation/output\\\\synthetic_image_334.txt', '../image_generation/output\\\\synthetic_image_335.txt', '../image_generation/output\\\\synthetic_image_336.txt', '../image_generation/output\\\\synthetic_image_337.txt', '../image_generation/output\\\\synthetic_image_338.txt', '../image_generation/output\\\\synthetic_image_339.txt', '../image_generation/output\\\\synthetic_image_34.txt', '../image_generation/output\\\\synthetic_image_340.txt', '../image_generation/output\\\\synthetic_image_341.txt', '../image_generation/output\\\\synthetic_image_342.txt', '../image_generation/output\\\\synthetic_image_343.txt', '../image_generation/output\\\\synthetic_image_344.txt', '../image_generation/output\\\\synthetic_image_345.txt', '../image_generation/output\\\\synthetic_image_346.txt', '../image_generation/output\\\\synthetic_image_347.txt', '../image_generation/output\\\\synthetic_image_348.txt', '../image_generation/output\\\\synthetic_image_349.txt', '../image_generation/output\\\\synthetic_image_35.txt', '../image_generation/output\\\\synthetic_image_350.txt', '../image_generation/output\\\\synthetic_image_351.txt', '../image_generation/output\\\\synthetic_image_352.txt', '../image_generation/output\\\\synthetic_image_353.txt', '../image_generation/output\\\\synthetic_image_354.txt', '../image_generation/output\\\\synthetic_image_355.txt', '../image_generation/output\\\\synthetic_image_356.txt', '../image_generation/output\\\\synthetic_image_357.txt', '../image_generation/output\\\\synthetic_image_358.txt', '../image_generation/output\\\\synthetic_image_359.txt', '../image_generation/output\\\\synthetic_image_36.txt', '../image_generation/output\\\\synthetic_image_360.txt', '../image_generation/output\\\\synthetic_image_361.txt', '../image_generation/output\\\\synthetic_image_362.txt', '../image_generation/output\\\\synthetic_image_363.txt', '../image_generation/output\\\\synthetic_image_364.txt', '../image_generation/output\\\\synthetic_image_365.txt', '../image_generation/output\\\\synthetic_image_366.txt', '../image_generation/output\\\\synthetic_image_367.txt', '../image_generation/output\\\\synthetic_image_368.txt', '../image_generation/output\\\\synthetic_image_369.txt', '../image_generation/output\\\\synthetic_image_37.txt', '../image_generation/output\\\\synthetic_image_370.txt', '../image_generation/output\\\\synthetic_image_371.txt', '../image_generation/output\\\\synthetic_image_372.txt', '../image_generation/output\\\\synthetic_image_373.txt', '../image_generation/output\\\\synthetic_image_374.txt', '../image_generation/output\\\\synthetic_image_375.txt', '../image_generation/output\\\\synthetic_image_376.txt', '../image_generation/output\\\\synthetic_image_377.txt', '../image_generation/output\\\\synthetic_image_378.txt', '../image_generation/output\\\\synthetic_image_379.txt', '../image_generation/output\\\\synthetic_image_38.txt', '../image_generation/output\\\\synthetic_image_380.txt', '../image_generation/output\\\\synthetic_image_381.txt', '../image_generation/output\\\\synthetic_image_382.txt', '../image_generation/output\\\\synthetic_image_383.txt', '../image_generation/output\\\\synthetic_image_384.txt', '../image_generation/output\\\\synthetic_image_385.txt', '../image_generation/output\\\\synthetic_image_386.txt', '../image_generation/output\\\\synthetic_image_387.txt', '../image_generation/output\\\\synthetic_image_388.txt', '../image_generation/output\\\\synthetic_image_389.txt', '../image_generation/output\\\\synthetic_image_39.txt', '../image_generation/output\\\\synthetic_image_390.txt', '../image_generation/output\\\\synthetic_image_391.txt', '../image_generation/output\\\\synthetic_image_392.txt', '../image_generation/output\\\\synthetic_image_393.txt', '../image_generation/output\\\\synthetic_image_394.txt', '../image_generation/output\\\\synthetic_image_395.txt', '../image_generation/output\\\\synthetic_image_396.txt', '../image_generation/output\\\\synthetic_image_397.txt', '../image_generation/output\\\\synthetic_image_398.txt', '../image_generation/output\\\\synthetic_image_399.txt', '../image_generation/output\\\\synthetic_image_4.txt', '../image_generation/output\\\\synthetic_image_40.txt', '../image_generation/output\\\\synthetic_image_41.txt', '../image_generation/output\\\\synthetic_image_42.txt', '../image_generation/output\\\\synthetic_image_43.txt', '../image_generation/output\\\\synthetic_image_44.txt', '../image_generation/output\\\\synthetic_image_45.txt', '../image_generation/output\\\\synthetic_image_46.txt', '../image_generation/output\\\\synthetic_image_47.txt', '../image_generation/output\\\\synthetic_image_48.txt', '../image_generation/output\\\\synthetic_image_49.txt', '../image_generation/output\\\\synthetic_image_5.txt', '../image_generation/output\\\\synthetic_image_50.txt', '../image_generation/output\\\\synthetic_image_51.txt', '../image_generation/output\\\\synthetic_image_52.txt', '../image_generation/output\\\\synthetic_image_53.txt', '../image_generation/output\\\\synthetic_image_54.txt', '../image_generation/output\\\\synthetic_image_55.txt', '../image_generation/output\\\\synthetic_image_56.txt', '../image_generation/output\\\\synthetic_image_57.txt', '../image_generation/output\\\\synthetic_image_58.txt', '../image_generation/output\\\\synthetic_image_59.txt', '../image_generation/output\\\\synthetic_image_6.txt', '../image_generation/output\\\\synthetic_image_60.txt', '../image_generation/output\\\\synthetic_image_61.txt', '../image_generation/output\\\\synthetic_image_62.txt', '../image_generation/output\\\\synthetic_image_63.txt', '../image_generation/output\\\\synthetic_image_64.txt', '../image_generation/output\\\\synthetic_image_65.txt', '../image_generation/output\\\\synthetic_image_66.txt', '../image_generation/output\\\\synthetic_image_67.txt', '../image_generation/output\\\\synthetic_image_68.txt', '../image_generation/output\\\\synthetic_image_69.txt', '../image_generation/output\\\\synthetic_image_7.txt', '../image_generation/output\\\\synthetic_image_70.txt', '../image_generation/output\\\\synthetic_image_71.txt', '../image_generation/output\\\\synthetic_image_72.txt', '../image_generation/output\\\\synthetic_image_73.txt', '../image_generation/output\\\\synthetic_image_74.txt', '../image_generation/output\\\\synthetic_image_75.txt', '../image_generation/output\\\\synthetic_image_76.txt', '../image_generation/output\\\\synthetic_image_77.txt', '../image_generation/output\\\\synthetic_image_78.txt', '../image_generation/output\\\\synthetic_image_79.txt', '../image_generation/output\\\\synthetic_image_8.txt', '../image_generation/output\\\\synthetic_image_80.txt', '../image_generation/output\\\\synthetic_image_81.txt', '../image_generation/output\\\\synthetic_image_82.txt', '../image_generation/output\\\\synthetic_image_83.txt', '../image_generation/output\\\\synthetic_image_84.txt', '../image_generation/output\\\\synthetic_image_85.txt', '../image_generation/output\\\\synthetic_image_86.txt', '../image_generation/output\\\\synthetic_image_87.txt', '../image_generation/output\\\\synthetic_image_88.txt', '../image_generation/output\\\\synthetic_image_89.txt', '../image_generation/output\\\\synthetic_image_9.txt', '../image_generation/output\\\\synthetic_image_90.txt', '../image_generation/output\\\\synthetic_image_91.txt', '../image_generation/output\\\\synthetic_image_92.txt', '../image_generation/output\\\\synthetic_image_93.txt', '../image_generation/output\\\\synthetic_image_94.txt', '../image_generation/output\\\\synthetic_image_95.txt', '../image_generation/output\\\\synthetic_image_96.txt', '../image_generation/output\\\\synthetic_image_97.txt', '../image_generation/output\\\\synthetic_image_98.txt', '../image_generation/output\\\\synthetic_image_99.txt']\n"
     ]
    }
   ],
   "source": [
    "import os\n",
    "import shutil\n",
    "import glob\n",
    "from sklearn.model_selection import train_test_split\n",
    "\n",
    "def split_data(source_dir, dest_dir, val_split=0.2):\n",
    "    if not os.path.exists(dest_dir):\n",
    "        os.makedirs(dest_dir)\n",
    "    \n",
    "\n",
    "    for folder in ['images', 'labels']:\n",
    "        for subfolder in ['train', 'val']:\n",
    "            os.makedirs(os.path.join(dest_dir, folder, subfolder), exist_ok=True)\n",
    "\n",
    "\n",
    "    images = sorted(glob.glob(os.path.join(source_dir, '*.jpg')))\n",
    "    labels = sorted(glob.glob(os.path.join(source_dir, '*.txt')))\n",
    "\n",
    "\n",
    "    pairs = list(zip(images, labels))\n",
    "    pairs_train, pairs_val = train_test_split(pairs, test_size=val_split, random_state=42)\n",
    "\n",
    "\n",
    "    for img, lbl in pairs_train:\n",
    "        shutil.copy(img, os.path.join(dest_dir, 'images', 'train'))\n",
    "        shutil.copy(lbl, os.path.join(dest_dir, 'labels', 'train'))\n",
    "\n",
    "    for img, lbl in pairs_val:\n",
    "        shutil.copy(img, os.path.join(dest_dir, 'images', 'val'))\n",
    "        shutil.copy(lbl, os.path.join(dest_dir, 'labels', 'val'))\n",
    "\n",
    "# Usage\n",
    "\n",
    "split_data('../image_generation/output', '../train/data', val_split=0.2)"
   ]
  },
  {
   "cell_type": "code",
   "execution_count": 2,
   "metadata": {},
   "outputs": [
    {
     "name": "stdout",
     "output_type": "stream",
     "text": [
      "data.yaml file created successfully.\n"
     ]
    }
   ],
   "source": [
    "# Define the YAML content\n",
    "data_yaml_content = \"\"\"\n",
    "train: 'C:/Users/NajibS/OneDrive - Process Integration Limited/DigitalBrain/PFD-ComputerVision/process_flow_diagrams_detection_v4/train/data/images/train'\n",
    "val: 'C:/Users/NajibS/OneDrive - Process Integration Limited/DigitalBrain/PFD-ComputerVision/process_flow_diagrams_detection_v4/train/data/images/val'\n",
    "\n",
    "nc: 1\n",
    "names: ['item']\n",
    "\"\"\"\n",
    "\n",
    "with open('../train/data.yaml', 'w') as file:\n",
    "    file.write(data_yaml_content)\n",
    "\n",
    "print(\"data.yaml file created successfully.\")\n"
   ]
  },
  {
   "cell_type": "code",
   "execution_count": 5,
   "metadata": {},
   "outputs": [
    {
     "name": "stdout",
     "output_type": "stream",
     "text": [
      "DetectionModel(\n",
      "  (model): Sequential(\n",
      "    (0): Conv(\n",
      "      (conv): Conv2d(3, 16, kernel_size=(3, 3), stride=(2, 2), padding=(1, 1), bias=False)\n",
      "      (bn): BatchNorm2d(16, eps=0.001, momentum=0.03, affine=True, track_running_stats=True)\n",
      "      (act): SiLU(inplace=True)\n",
      "    )\n",
      "    (1): Conv(\n",
      "      (conv): Conv2d(16, 32, kernel_size=(3, 3), stride=(2, 2), padding=(1, 1), bias=False)\n",
      "      (bn): BatchNorm2d(32, eps=0.001, momentum=0.03, affine=True, track_running_stats=True)\n",
      "      (act): SiLU(inplace=True)\n",
      "    )\n",
      "    (2): C2f(\n",
      "      (cv1): Conv(\n",
      "        (conv): Conv2d(32, 32, kernel_size=(1, 1), stride=(1, 1), bias=False)\n",
      "        (bn): BatchNorm2d(32, eps=0.001, momentum=0.03, affine=True, track_running_stats=True)\n",
      "        (act): SiLU(inplace=True)\n",
      "      )\n",
      "      (cv2): Conv(\n",
      "        (conv): Conv2d(48, 32, kernel_size=(1, 1), stride=(1, 1), bias=False)\n",
      "        (bn): BatchNorm2d(32, eps=0.001, momentum=0.03, affine=True, track_running_stats=True)\n",
      "        (act): SiLU(inplace=True)\n",
      "      )\n",
      "      (m): ModuleList(\n",
      "        (0): Bottleneck(\n",
      "          (cv1): Conv(\n",
      "            (conv): Conv2d(16, 16, kernel_size=(3, 3), stride=(1, 1), padding=(1, 1), bias=False)\n",
      "            (bn): BatchNorm2d(16, eps=0.001, momentum=0.03, affine=True, track_running_stats=True)\n",
      "            (act): SiLU(inplace=True)\n",
      "          )\n",
      "          (cv2): Conv(\n",
      "            (conv): Conv2d(16, 16, kernel_size=(3, 3), stride=(1, 1), padding=(1, 1), bias=False)\n",
      "            (bn): BatchNorm2d(16, eps=0.001, momentum=0.03, affine=True, track_running_stats=True)\n",
      "            (act): SiLU(inplace=True)\n",
      "          )\n",
      "        )\n",
      "      )\n",
      "    )\n",
      "    (3): Conv(\n",
      "      (conv): Conv2d(32, 64, kernel_size=(3, 3), stride=(2, 2), padding=(1, 1), bias=False)\n",
      "      (bn): BatchNorm2d(64, eps=0.001, momentum=0.03, affine=True, track_running_stats=True)\n",
      "      (act): SiLU(inplace=True)\n",
      "    )\n",
      "    (4): C2f(\n",
      "      (cv1): Conv(\n",
      "        (conv): Conv2d(64, 64, kernel_size=(1, 1), stride=(1, 1), bias=False)\n",
      "        (bn): BatchNorm2d(64, eps=0.001, momentum=0.03, affine=True, track_running_stats=True)\n",
      "        (act): SiLU(inplace=True)\n",
      "      )\n",
      "      (cv2): Conv(\n",
      "        (conv): Conv2d(128, 64, kernel_size=(1, 1), stride=(1, 1), bias=False)\n",
      "        (bn): BatchNorm2d(64, eps=0.001, momentum=0.03, affine=True, track_running_stats=True)\n",
      "        (act): SiLU(inplace=True)\n",
      "      )\n",
      "      (m): ModuleList(\n",
      "        (0-1): 2 x Bottleneck(\n",
      "          (cv1): Conv(\n",
      "            (conv): Conv2d(32, 32, kernel_size=(3, 3), stride=(1, 1), padding=(1, 1), bias=False)\n",
      "            (bn): BatchNorm2d(32, eps=0.001, momentum=0.03, affine=True, track_running_stats=True)\n",
      "            (act): SiLU(inplace=True)\n",
      "          )\n",
      "          (cv2): Conv(\n",
      "            (conv): Conv2d(32, 32, kernel_size=(3, 3), stride=(1, 1), padding=(1, 1), bias=False)\n",
      "            (bn): BatchNorm2d(32, eps=0.001, momentum=0.03, affine=True, track_running_stats=True)\n",
      "            (act): SiLU(inplace=True)\n",
      "          )\n",
      "        )\n",
      "      )\n",
      "    )\n",
      "    (5): Conv(\n",
      "      (conv): Conv2d(64, 128, kernel_size=(3, 3), stride=(2, 2), padding=(1, 1), bias=False)\n",
      "      (bn): BatchNorm2d(128, eps=0.001, momentum=0.03, affine=True, track_running_stats=True)\n",
      "      (act): SiLU(inplace=True)\n",
      "    )\n",
      "    (6): C2f(\n",
      "      (cv1): Conv(\n",
      "        (conv): Conv2d(128, 128, kernel_size=(1, 1), stride=(1, 1), bias=False)\n",
      "        (bn): BatchNorm2d(128, eps=0.001, momentum=0.03, affine=True, track_running_stats=True)\n",
      "        (act): SiLU(inplace=True)\n",
      "      )\n",
      "      (cv2): Conv(\n",
      "        (conv): Conv2d(256, 128, kernel_size=(1, 1), stride=(1, 1), bias=False)\n",
      "        (bn): BatchNorm2d(128, eps=0.001, momentum=0.03, affine=True, track_running_stats=True)\n",
      "        (act): SiLU(inplace=True)\n",
      "      )\n",
      "      (m): ModuleList(\n",
      "        (0-1): 2 x Bottleneck(\n",
      "          (cv1): Conv(\n",
      "            (conv): Conv2d(64, 64, kernel_size=(3, 3), stride=(1, 1), padding=(1, 1), bias=False)\n",
      "            (bn): BatchNorm2d(64, eps=0.001, momentum=0.03, affine=True, track_running_stats=True)\n",
      "            (act): SiLU(inplace=True)\n",
      "          )\n",
      "          (cv2): Conv(\n",
      "            (conv): Conv2d(64, 64, kernel_size=(3, 3), stride=(1, 1), padding=(1, 1), bias=False)\n",
      "            (bn): BatchNorm2d(64, eps=0.001, momentum=0.03, affine=True, track_running_stats=True)\n",
      "            (act): SiLU(inplace=True)\n",
      "          )\n",
      "        )\n",
      "      )\n",
      "    )\n",
      "    (7): Conv(\n",
      "      (conv): Conv2d(128, 256, kernel_size=(3, 3), stride=(2, 2), padding=(1, 1), bias=False)\n",
      "      (bn): BatchNorm2d(256, eps=0.001, momentum=0.03, affine=True, track_running_stats=True)\n",
      "      (act): SiLU(inplace=True)\n",
      "    )\n",
      "    (8): C2f(\n",
      "      (cv1): Conv(\n",
      "        (conv): Conv2d(256, 256, kernel_size=(1, 1), stride=(1, 1), bias=False)\n",
      "        (bn): BatchNorm2d(256, eps=0.001, momentum=0.03, affine=True, track_running_stats=True)\n",
      "        (act): SiLU(inplace=True)\n",
      "      )\n",
      "      (cv2): Conv(\n",
      "        (conv): Conv2d(384, 256, kernel_size=(1, 1), stride=(1, 1), bias=False)\n",
      "        (bn): BatchNorm2d(256, eps=0.001, momentum=0.03, affine=True, track_running_stats=True)\n",
      "        (act): SiLU(inplace=True)\n",
      "      )\n",
      "      (m): ModuleList(\n",
      "        (0): Bottleneck(\n",
      "          (cv1): Conv(\n",
      "            (conv): Conv2d(128, 128, kernel_size=(3, 3), stride=(1, 1), padding=(1, 1), bias=False)\n",
      "            (bn): BatchNorm2d(128, eps=0.001, momentum=0.03, affine=True, track_running_stats=True)\n",
      "            (act): SiLU(inplace=True)\n",
      "          )\n",
      "          (cv2): Conv(\n",
      "            (conv): Conv2d(128, 128, kernel_size=(3, 3), stride=(1, 1), padding=(1, 1), bias=False)\n",
      "            (bn): BatchNorm2d(128, eps=0.001, momentum=0.03, affine=True, track_running_stats=True)\n",
      "            (act): SiLU(inplace=True)\n",
      "          )\n",
      "        )\n",
      "      )\n",
      "    )\n",
      "    (9): SPPF(\n",
      "      (cv1): Conv(\n",
      "        (conv): Conv2d(256, 128, kernel_size=(1, 1), stride=(1, 1), bias=False)\n",
      "        (bn): BatchNorm2d(128, eps=0.001, momentum=0.03, affine=True, track_running_stats=True)\n",
      "        (act): SiLU(inplace=True)\n",
      "      )\n",
      "      (cv2): Conv(\n",
      "        (conv): Conv2d(512, 256, kernel_size=(1, 1), stride=(1, 1), bias=False)\n",
      "        (bn): BatchNorm2d(256, eps=0.001, momentum=0.03, affine=True, track_running_stats=True)\n",
      "        (act): SiLU(inplace=True)\n",
      "      )\n",
      "      (m): MaxPool2d(kernel_size=5, stride=1, padding=2, dilation=1, ceil_mode=False)\n",
      "    )\n",
      "    (10): Upsample(scale_factor=2.0, mode='nearest')\n",
      "    (11): Concat()\n",
      "    (12): C2f(\n",
      "      (cv1): Conv(\n",
      "        (conv): Conv2d(384, 128, kernel_size=(1, 1), stride=(1, 1), bias=False)\n",
      "        (bn): BatchNorm2d(128, eps=0.001, momentum=0.03, affine=True, track_running_stats=True)\n",
      "        (act): SiLU(inplace=True)\n",
      "      )\n",
      "      (cv2): Conv(\n",
      "        (conv): Conv2d(192, 128, kernel_size=(1, 1), stride=(1, 1), bias=False)\n",
      "        (bn): BatchNorm2d(128, eps=0.001, momentum=0.03, affine=True, track_running_stats=True)\n",
      "        (act): SiLU(inplace=True)\n",
      "      )\n",
      "      (m): ModuleList(\n",
      "        (0): Bottleneck(\n",
      "          (cv1): Conv(\n",
      "            (conv): Conv2d(64, 64, kernel_size=(3, 3), stride=(1, 1), padding=(1, 1), bias=False)\n",
      "            (bn): BatchNorm2d(64, eps=0.001, momentum=0.03, affine=True, track_running_stats=True)\n",
      "            (act): SiLU(inplace=True)\n",
      "          )\n",
      "          (cv2): Conv(\n",
      "            (conv): Conv2d(64, 64, kernel_size=(3, 3), stride=(1, 1), padding=(1, 1), bias=False)\n",
      "            (bn): BatchNorm2d(64, eps=0.001, momentum=0.03, affine=True, track_running_stats=True)\n",
      "            (act): SiLU(inplace=True)\n",
      "          )\n",
      "        )\n",
      "      )\n",
      "    )\n",
      "    (13): Upsample(scale_factor=2.0, mode='nearest')\n",
      "    (14): Concat()\n",
      "    (15): C2f(\n",
      "      (cv1): Conv(\n",
      "        (conv): Conv2d(192, 64, kernel_size=(1, 1), stride=(1, 1), bias=False)\n",
      "        (bn): BatchNorm2d(64, eps=0.001, momentum=0.03, affine=True, track_running_stats=True)\n",
      "        (act): SiLU(inplace=True)\n",
      "      )\n",
      "      (cv2): Conv(\n",
      "        (conv): Conv2d(96, 64, kernel_size=(1, 1), stride=(1, 1), bias=False)\n",
      "        (bn): BatchNorm2d(64, eps=0.001, momentum=0.03, affine=True, track_running_stats=True)\n",
      "        (act): SiLU(inplace=True)\n",
      "      )\n",
      "      (m): ModuleList(\n",
      "        (0): Bottleneck(\n",
      "          (cv1): Conv(\n",
      "            (conv): Conv2d(32, 32, kernel_size=(3, 3), stride=(1, 1), padding=(1, 1), bias=False)\n",
      "            (bn): BatchNorm2d(32, eps=0.001, momentum=0.03, affine=True, track_running_stats=True)\n",
      "            (act): SiLU(inplace=True)\n",
      "          )\n",
      "          (cv2): Conv(\n",
      "            (conv): Conv2d(32, 32, kernel_size=(3, 3), stride=(1, 1), padding=(1, 1), bias=False)\n",
      "            (bn): BatchNorm2d(32, eps=0.001, momentum=0.03, affine=True, track_running_stats=True)\n",
      "            (act): SiLU(inplace=True)\n",
      "          )\n",
      "        )\n",
      "      )\n",
      "    )\n",
      "    (16): Conv(\n",
      "      (conv): Conv2d(64, 64, kernel_size=(3, 3), stride=(2, 2), padding=(1, 1), bias=False)\n",
      "      (bn): BatchNorm2d(64, eps=0.001, momentum=0.03, affine=True, track_running_stats=True)\n",
      "      (act): SiLU(inplace=True)\n",
      "    )\n",
      "    (17): Concat()\n",
      "    (18): C2f(\n",
      "      (cv1): Conv(\n",
      "        (conv): Conv2d(192, 128, kernel_size=(1, 1), stride=(1, 1), bias=False)\n",
      "        (bn): BatchNorm2d(128, eps=0.001, momentum=0.03, affine=True, track_running_stats=True)\n",
      "        (act): SiLU(inplace=True)\n",
      "      )\n",
      "      (cv2): Conv(\n",
      "        (conv): Conv2d(192, 128, kernel_size=(1, 1), stride=(1, 1), bias=False)\n",
      "        (bn): BatchNorm2d(128, eps=0.001, momentum=0.03, affine=True, track_running_stats=True)\n",
      "        (act): SiLU(inplace=True)\n",
      "      )\n",
      "      (m): ModuleList(\n",
      "        (0): Bottleneck(\n",
      "          (cv1): Conv(\n",
      "            (conv): Conv2d(64, 64, kernel_size=(3, 3), stride=(1, 1), padding=(1, 1), bias=False)\n",
      "            (bn): BatchNorm2d(64, eps=0.001, momentum=0.03, affine=True, track_running_stats=True)\n",
      "            (act): SiLU(inplace=True)\n",
      "          )\n",
      "          (cv2): Conv(\n",
      "            (conv): Conv2d(64, 64, kernel_size=(3, 3), stride=(1, 1), padding=(1, 1), bias=False)\n",
      "            (bn): BatchNorm2d(64, eps=0.001, momentum=0.03, affine=True, track_running_stats=True)\n",
      "            (act): SiLU(inplace=True)\n",
      "          )\n",
      "        )\n",
      "      )\n",
      "    )\n",
      "    (19): Conv(\n",
      "      (conv): Conv2d(128, 128, kernel_size=(3, 3), stride=(2, 2), padding=(1, 1), bias=False)\n",
      "      (bn): BatchNorm2d(128, eps=0.001, momentum=0.03, affine=True, track_running_stats=True)\n",
      "      (act): SiLU(inplace=True)\n",
      "    )\n",
      "    (20): Concat()\n",
      "    (21): C2f(\n",
      "      (cv1): Conv(\n",
      "        (conv): Conv2d(384, 256, kernel_size=(1, 1), stride=(1, 1), bias=False)\n",
      "        (bn): BatchNorm2d(256, eps=0.001, momentum=0.03, affine=True, track_running_stats=True)\n",
      "        (act): SiLU(inplace=True)\n",
      "      )\n",
      "      (cv2): Conv(\n",
      "        (conv): Conv2d(384, 256, kernel_size=(1, 1), stride=(1, 1), bias=False)\n",
      "        (bn): BatchNorm2d(256, eps=0.001, momentum=0.03, affine=True, track_running_stats=True)\n",
      "        (act): SiLU(inplace=True)\n",
      "      )\n",
      "      (m): ModuleList(\n",
      "        (0): Bottleneck(\n",
      "          (cv1): Conv(\n",
      "            (conv): Conv2d(128, 128, kernel_size=(3, 3), stride=(1, 1), padding=(1, 1), bias=False)\n",
      "            (bn): BatchNorm2d(128, eps=0.001, momentum=0.03, affine=True, track_running_stats=True)\n",
      "            (act): SiLU(inplace=True)\n",
      "          )\n",
      "          (cv2): Conv(\n",
      "            (conv): Conv2d(128, 128, kernel_size=(3, 3), stride=(1, 1), padding=(1, 1), bias=False)\n",
      "            (bn): BatchNorm2d(128, eps=0.001, momentum=0.03, affine=True, track_running_stats=True)\n",
      "            (act): SiLU(inplace=True)\n",
      "          )\n",
      "        )\n",
      "      )\n",
      "    )\n",
      "    (22): Detect(\n",
      "      (cv2): ModuleList(\n",
      "        (0): Sequential(\n",
      "          (0): Conv(\n",
      "            (conv): Conv2d(64, 64, kernel_size=(3, 3), stride=(1, 1), padding=(1, 1), bias=False)\n",
      "            (bn): BatchNorm2d(64, eps=0.001, momentum=0.03, affine=True, track_running_stats=True)\n",
      "            (act): SiLU(inplace=True)\n",
      "          )\n",
      "          (1): Conv(\n",
      "            (conv): Conv2d(64, 64, kernel_size=(3, 3), stride=(1, 1), padding=(1, 1), bias=False)\n",
      "            (bn): BatchNorm2d(64, eps=0.001, momentum=0.03, affine=True, track_running_stats=True)\n",
      "            (act): SiLU(inplace=True)\n",
      "          )\n",
      "          (2): Conv2d(64, 64, kernel_size=(1, 1), stride=(1, 1))\n",
      "        )\n",
      "        (1): Sequential(\n",
      "          (0): Conv(\n",
      "            (conv): Conv2d(128, 64, kernel_size=(3, 3), stride=(1, 1), padding=(1, 1), bias=False)\n",
      "            (bn): BatchNorm2d(64, eps=0.001, momentum=0.03, affine=True, track_running_stats=True)\n",
      "            (act): SiLU(inplace=True)\n",
      "          )\n",
      "          (1): Conv(\n",
      "            (conv): Conv2d(64, 64, kernel_size=(3, 3), stride=(1, 1), padding=(1, 1), bias=False)\n",
      "            (bn): BatchNorm2d(64, eps=0.001, momentum=0.03, affine=True, track_running_stats=True)\n",
      "            (act): SiLU(inplace=True)\n",
      "          )\n",
      "          (2): Conv2d(64, 64, kernel_size=(1, 1), stride=(1, 1))\n",
      "        )\n",
      "        (2): Sequential(\n",
      "          (0): Conv(\n",
      "            (conv): Conv2d(256, 64, kernel_size=(3, 3), stride=(1, 1), padding=(1, 1), bias=False)\n",
      "            (bn): BatchNorm2d(64, eps=0.001, momentum=0.03, affine=True, track_running_stats=True)\n",
      "            (act): SiLU(inplace=True)\n",
      "          )\n",
      "          (1): Conv(\n",
      "            (conv): Conv2d(64, 64, kernel_size=(3, 3), stride=(1, 1), padding=(1, 1), bias=False)\n",
      "            (bn): BatchNorm2d(64, eps=0.001, momentum=0.03, affine=True, track_running_stats=True)\n",
      "            (act): SiLU(inplace=True)\n",
      "          )\n",
      "          (2): Conv2d(64, 64, kernel_size=(1, 1), stride=(1, 1))\n",
      "        )\n",
      "      )\n",
      "      (cv3): ModuleList(\n",
      "        (0): Sequential(\n",
      "          (0): Conv(\n",
      "            (conv): Conv2d(64, 64, kernel_size=(3, 3), stride=(1, 1), padding=(1, 1), bias=False)\n",
      "            (bn): BatchNorm2d(64, eps=0.001, momentum=0.03, affine=True, track_running_stats=True)\n",
      "            (act): SiLU(inplace=True)\n",
      "          )\n",
      "          (1): Conv(\n",
      "            (conv): Conv2d(64, 64, kernel_size=(3, 3), stride=(1, 1), padding=(1, 1), bias=False)\n",
      "            (bn): BatchNorm2d(64, eps=0.001, momentum=0.03, affine=True, track_running_stats=True)\n",
      "            (act): SiLU(inplace=True)\n",
      "          )\n",
      "          (2): Conv2d(64, 1, kernel_size=(1, 1), stride=(1, 1))\n",
      "        )\n",
      "        (1): Sequential(\n",
      "          (0): Conv(\n",
      "            (conv): Conv2d(128, 64, kernel_size=(3, 3), stride=(1, 1), padding=(1, 1), bias=False)\n",
      "            (bn): BatchNorm2d(64, eps=0.001, momentum=0.03, affine=True, track_running_stats=True)\n",
      "            (act): SiLU(inplace=True)\n",
      "          )\n",
      "          (1): Conv(\n",
      "            (conv): Conv2d(64, 64, kernel_size=(3, 3), stride=(1, 1), padding=(1, 1), bias=False)\n",
      "            (bn): BatchNorm2d(64, eps=0.001, momentum=0.03, affine=True, track_running_stats=True)\n",
      "            (act): SiLU(inplace=True)\n",
      "          )\n",
      "          (2): Conv2d(64, 1, kernel_size=(1, 1), stride=(1, 1))\n",
      "        )\n",
      "        (2): Sequential(\n",
      "          (0): Conv(\n",
      "            (conv): Conv2d(256, 64, kernel_size=(3, 3), stride=(1, 1), padding=(1, 1), bias=False)\n",
      "            (bn): BatchNorm2d(64, eps=0.001, momentum=0.03, affine=True, track_running_stats=True)\n",
      "            (act): SiLU(inplace=True)\n",
      "          )\n",
      "          (1): Conv(\n",
      "            (conv): Conv2d(64, 64, kernel_size=(3, 3), stride=(1, 1), padding=(1, 1), bias=False)\n",
      "            (bn): BatchNorm2d(64, eps=0.001, momentum=0.03, affine=True, track_running_stats=True)\n",
      "            (act): SiLU(inplace=True)\n",
      "          )\n",
      "          (2): Conv2d(64, 1, kernel_size=(1, 1), stride=(1, 1))\n",
      "        )\n",
      "      )\n",
      "      (dfl): DFL(\n",
      "        (conv): Conv2d(16, 1, kernel_size=(1, 1), stride=(1, 1), bias=False)\n",
      "      )\n",
      "    )\n",
      "  )\n",
      ")\n",
      "model.0.conv.weight True\n",
      "model.0.bn.weight True\n",
      "model.0.bn.bias True\n",
      "model.1.conv.weight True\n",
      "model.1.bn.weight True\n",
      "model.1.bn.bias True\n",
      "model.2.cv1.conv.weight True\n",
      "model.2.cv1.bn.weight True\n",
      "model.2.cv1.bn.bias True\n",
      "model.2.cv2.conv.weight True\n",
      "model.2.cv2.bn.weight True\n",
      "model.2.cv2.bn.bias True\n",
      "model.2.m.0.cv1.conv.weight True\n",
      "model.2.m.0.cv1.bn.weight True\n",
      "model.2.m.0.cv1.bn.bias True\n",
      "model.2.m.0.cv2.conv.weight True\n",
      "model.2.m.0.cv2.bn.weight True\n",
      "model.2.m.0.cv2.bn.bias True\n",
      "model.3.conv.weight True\n",
      "model.3.bn.weight True\n",
      "model.3.bn.bias True\n",
      "model.4.cv1.conv.weight True\n",
      "model.4.cv1.bn.weight True\n",
      "model.4.cv1.bn.bias True\n",
      "model.4.cv2.conv.weight True\n",
      "model.4.cv2.bn.weight True\n",
      "model.4.cv2.bn.bias True\n",
      "model.4.m.0.cv1.conv.weight True\n",
      "model.4.m.0.cv1.bn.weight True\n",
      "model.4.m.0.cv1.bn.bias True\n",
      "model.4.m.0.cv2.conv.weight True\n",
      "model.4.m.0.cv2.bn.weight True\n",
      "model.4.m.0.cv2.bn.bias True\n",
      "model.4.m.1.cv1.conv.weight True\n",
      "model.4.m.1.cv1.bn.weight True\n",
      "model.4.m.1.cv1.bn.bias True\n",
      "model.4.m.1.cv2.conv.weight True\n",
      "model.4.m.1.cv2.bn.weight True\n",
      "model.4.m.1.cv2.bn.bias True\n",
      "model.5.conv.weight True\n",
      "model.5.bn.weight True\n",
      "model.5.bn.bias True\n",
      "model.6.cv1.conv.weight True\n",
      "model.6.cv1.bn.weight True\n",
      "model.6.cv1.bn.bias True\n",
      "model.6.cv2.conv.weight True\n",
      "model.6.cv2.bn.weight True\n",
      "model.6.cv2.bn.bias True\n",
      "model.6.m.0.cv1.conv.weight True\n",
      "model.6.m.0.cv1.bn.weight True\n",
      "model.6.m.0.cv1.bn.bias True\n",
      "model.6.m.0.cv2.conv.weight True\n",
      "model.6.m.0.cv2.bn.weight True\n",
      "model.6.m.0.cv2.bn.bias True\n",
      "model.6.m.1.cv1.conv.weight True\n",
      "model.6.m.1.cv1.bn.weight True\n",
      "model.6.m.1.cv1.bn.bias True\n",
      "model.6.m.1.cv2.conv.weight True\n",
      "model.6.m.1.cv2.bn.weight True\n",
      "model.6.m.1.cv2.bn.bias True\n",
      "model.7.conv.weight True\n",
      "model.7.bn.weight True\n",
      "model.7.bn.bias True\n",
      "model.8.cv1.conv.weight True\n",
      "model.8.cv1.bn.weight True\n",
      "model.8.cv1.bn.bias True\n",
      "model.8.cv2.conv.weight True\n",
      "model.8.cv2.bn.weight True\n",
      "model.8.cv2.bn.bias True\n",
      "model.8.m.0.cv1.conv.weight True\n",
      "model.8.m.0.cv1.bn.weight True\n",
      "model.8.m.0.cv1.bn.bias True\n",
      "model.8.m.0.cv2.conv.weight True\n",
      "model.8.m.0.cv2.bn.weight True\n",
      "model.8.m.0.cv2.bn.bias True\n",
      "model.9.cv1.conv.weight True\n",
      "model.9.cv1.bn.weight True\n",
      "model.9.cv1.bn.bias True\n",
      "model.9.cv2.conv.weight True\n",
      "model.9.cv2.bn.weight True\n",
      "model.9.cv2.bn.bias True\n",
      "model.12.cv1.conv.weight True\n",
      "model.12.cv1.bn.weight True\n",
      "model.12.cv1.bn.bias True\n",
      "model.12.cv2.conv.weight True\n",
      "model.12.cv2.bn.weight True\n",
      "model.12.cv2.bn.bias True\n",
      "model.12.m.0.cv1.conv.weight True\n",
      "model.12.m.0.cv1.bn.weight True\n",
      "model.12.m.0.cv1.bn.bias True\n",
      "model.12.m.0.cv2.conv.weight True\n",
      "model.12.m.0.cv2.bn.weight True\n",
      "model.12.m.0.cv2.bn.bias True\n",
      "model.15.cv1.conv.weight True\n",
      "model.15.cv1.bn.weight True\n",
      "model.15.cv1.bn.bias True\n",
      "model.15.cv2.conv.weight True\n",
      "model.15.cv2.bn.weight True\n",
      "model.15.cv2.bn.bias True\n",
      "model.15.m.0.cv1.conv.weight True\n",
      "model.15.m.0.cv1.bn.weight True\n",
      "model.15.m.0.cv1.bn.bias True\n",
      "model.15.m.0.cv2.conv.weight True\n",
      "model.15.m.0.cv2.bn.weight True\n",
      "model.15.m.0.cv2.bn.bias True\n",
      "model.16.conv.weight True\n",
      "model.16.bn.weight True\n",
      "model.16.bn.bias True\n",
      "model.18.cv1.conv.weight True\n",
      "model.18.cv1.bn.weight True\n",
      "model.18.cv1.bn.bias True\n",
      "model.18.cv2.conv.weight True\n",
      "model.18.cv2.bn.weight True\n",
      "model.18.cv2.bn.bias True\n",
      "model.18.m.0.cv1.conv.weight True\n",
      "model.18.m.0.cv1.bn.weight True\n",
      "model.18.m.0.cv1.bn.bias True\n",
      "model.18.m.0.cv2.conv.weight True\n",
      "model.18.m.0.cv2.bn.weight True\n",
      "model.18.m.0.cv2.bn.bias True\n",
      "model.19.conv.weight True\n",
      "model.19.bn.weight True\n",
      "model.19.bn.bias True\n",
      "model.21.cv1.conv.weight True\n",
      "model.21.cv1.bn.weight True\n",
      "model.21.cv1.bn.bias True\n",
      "model.21.cv2.conv.weight True\n",
      "model.21.cv2.bn.weight True\n",
      "model.21.cv2.bn.bias True\n",
      "model.21.m.0.cv1.conv.weight True\n",
      "model.21.m.0.cv1.bn.weight True\n",
      "model.21.m.0.cv1.bn.bias True\n",
      "model.21.m.0.cv2.conv.weight True\n",
      "model.21.m.0.cv2.bn.weight True\n",
      "model.21.m.0.cv2.bn.bias True\n",
      "model.22.cv2.0.0.conv.weight True\n",
      "model.22.cv2.0.0.bn.weight True\n",
      "model.22.cv2.0.0.bn.bias True\n",
      "model.22.cv2.0.1.conv.weight True\n",
      "model.22.cv2.0.1.bn.weight True\n",
      "model.22.cv2.0.1.bn.bias True\n",
      "model.22.cv2.0.2.weight True\n",
      "model.22.cv2.0.2.bias True\n",
      "model.22.cv2.1.0.conv.weight True\n",
      "model.22.cv2.1.0.bn.weight True\n",
      "model.22.cv2.1.0.bn.bias True\n",
      "model.22.cv2.1.1.conv.weight True\n",
      "model.22.cv2.1.1.bn.weight True\n",
      "model.22.cv2.1.1.bn.bias True\n",
      "model.22.cv2.1.2.weight True\n",
      "model.22.cv2.1.2.bias True\n",
      "model.22.cv2.2.0.conv.weight True\n",
      "model.22.cv2.2.0.bn.weight True\n",
      "model.22.cv2.2.0.bn.bias True\n",
      "model.22.cv2.2.1.conv.weight True\n",
      "model.22.cv2.2.1.bn.weight True\n",
      "model.22.cv2.2.1.bn.bias True\n",
      "model.22.cv2.2.2.weight True\n",
      "model.22.cv2.2.2.bias True\n",
      "model.22.cv3.0.0.conv.weight True\n",
      "model.22.cv3.0.0.bn.weight True\n",
      "model.22.cv3.0.0.bn.bias True\n",
      "model.22.cv3.0.1.conv.weight True\n",
      "model.22.cv3.0.1.bn.weight True\n",
      "model.22.cv3.0.1.bn.bias True\n",
      "model.22.cv3.0.2.weight True\n",
      "model.22.cv3.0.2.bias True\n",
      "model.22.cv3.1.0.conv.weight True\n",
      "model.22.cv3.1.0.bn.weight True\n",
      "model.22.cv3.1.0.bn.bias True\n",
      "model.22.cv3.1.1.conv.weight True\n",
      "model.22.cv3.1.1.bn.weight True\n",
      "model.22.cv3.1.1.bn.bias True\n",
      "model.22.cv3.1.2.weight True\n",
      "model.22.cv3.1.2.bias True\n",
      "model.22.cv3.2.0.conv.weight True\n",
      "model.22.cv3.2.0.bn.weight True\n",
      "model.22.cv3.2.0.bn.bias True\n",
      "model.22.cv3.2.1.conv.weight True\n",
      "model.22.cv3.2.1.bn.weight True\n",
      "model.22.cv3.2.1.bn.bias True\n",
      "model.22.cv3.2.2.weight True\n",
      "model.22.cv3.2.2.bias True\n",
      "model.22.dfl.conv.weight True\n",
      "New https://pypi.org/project/ultralytics/8.2.16 available  Update with 'pip install -U ultralytics'\n",
      "Ultralytics YOLOv8.2.5  Python-3.11.3 torch-2.2.1+cpu CPU (13th Gen Intel Core(TM) i7-1365U)\n",
      "\u001b[34m\u001b[1mengine\\trainer: \u001b[0mtask=detect, mode=train, model=best.pt, data=C:/Users/NajibS/OneDrive - Process Integration Limited/DigitalBrain/PFD-ComputerVision/process_flow_diagrams_detection_v4/train/data.yaml, epochs=100, time=None, patience=20, batch=16, imgsz=1200, save=True, save_period=2, cache=False, device=None, workers=8, project=None, name=yolo_pil5, exist_ok=False, pretrained=True, optimizer=AdamW, verbose=True, seed=0, deterministic=True, single_cls=False, rect=False, cos_lr=False, close_mosaic=10, resume=False, amp=True, fraction=1.0, profile=False, freeze=None, multi_scale=False, overlap_mask=True, mask_ratio=4, dropout=0.1, val=True, split=val, save_json=False, save_hybrid=False, conf=0.15, iou=0.2, max_det=300, half=False, dnn=False, plots=True, source=None, vid_stride=1, stream_buffer=False, visualize=False, augment=False, agnostic_nms=False, classes=None, retina_masks=False, embed=None, show=False, save_frames=False, save_txt=False, save_conf=False, save_crop=False, show_labels=True, show_conf=True, show_boxes=True, line_width=None, format=torchscript, keras=False, optimize=False, int8=False, dynamic=False, simplify=False, opset=None, workspace=4, nms=False, lr0=0.01, lrf=0.01, momentum=0.937, weight_decay=0.005, warmup_epochs=2, warmup_momentum=0.8, warmup_bias_lr=0.1, box=7.5, cls=0.5, dfl=1.5, pose=12.0, kobj=1.0, label_smoothing=0.0, nbs=64, hsv_h=0.015, hsv_s=0.7, hsv_v=0.4, degrees=0.0, translate=0.1, scale=0.5, shear=0.0, perspective=0.0, flipud=0.0, fliplr=0.5, bgr=0.0, mosaic=1.0, mixup=0.0, copy_paste=0.0, auto_augment=randaugment, erasing=0.4, crop_fraction=1.0, cfg=None, tracker=botsort.yaml, save_dir=runs\\detect\\yolo_pil5\n",
      "\n",
      "                   from  n    params  module                                       arguments                     \n",
      "  0                  -1  1       464  ultralytics.nn.modules.conv.Conv             [3, 16, 3, 2]                 \n",
      "  1                  -1  1      4672  ultralytics.nn.modules.conv.Conv             [16, 32, 3, 2]                \n",
      "  2                  -1  1      7360  ultralytics.nn.modules.block.C2f             [32, 32, 1, True]             \n",
      "  3                  -1  1     18560  ultralytics.nn.modules.conv.Conv             [32, 64, 3, 2]                \n",
      "  4                  -1  2     49664  ultralytics.nn.modules.block.C2f             [64, 64, 2, True]             \n",
      "  5                  -1  1     73984  ultralytics.nn.modules.conv.Conv             [64, 128, 3, 2]               \n",
      "  6                  -1  2    197632  ultralytics.nn.modules.block.C2f             [128, 128, 2, True]           \n",
      "  7                  -1  1    295424  ultralytics.nn.modules.conv.Conv             [128, 256, 3, 2]              \n",
      "  8                  -1  1    460288  ultralytics.nn.modules.block.C2f             [256, 256, 1, True]           \n",
      "  9                  -1  1    164608  ultralytics.nn.modules.block.SPPF            [256, 256, 5]                 \n",
      " 10                  -1  1         0  torch.nn.modules.upsampling.Upsample         [None, 2, 'nearest']          \n",
      " 11             [-1, 6]  1         0  ultralytics.nn.modules.conv.Concat           [1]                           \n",
      " 12                  -1  1    148224  ultralytics.nn.modules.block.C2f             [384, 128, 1]                 \n",
      " 13                  -1  1         0  torch.nn.modules.upsampling.Upsample         [None, 2, 'nearest']          \n",
      " 14             [-1, 4]  1         0  ultralytics.nn.modules.conv.Concat           [1]                           \n",
      " 15                  -1  1     37248  ultralytics.nn.modules.block.C2f             [192, 64, 1]                  \n",
      " 16                  -1  1     36992  ultralytics.nn.modules.conv.Conv             [64, 64, 3, 2]                \n",
      " 17            [-1, 12]  1         0  ultralytics.nn.modules.conv.Concat           [1]                           \n",
      " 18                  -1  1    123648  ultralytics.nn.modules.block.C2f             [192, 128, 1]                 \n",
      " 19                  -1  1    147712  ultralytics.nn.modules.conv.Conv             [128, 128, 3, 2]              \n",
      " 20             [-1, 9]  1         0  ultralytics.nn.modules.conv.Concat           [1]                           \n",
      " 21                  -1  1    493056  ultralytics.nn.modules.block.C2f             [384, 256, 1]                 \n",
      " 22        [15, 18, 21]  1    751507  ultralytics.nn.modules.head.Detect           [1, [64, 128, 256]]           \n",
      "Model summary: 225 layers, 3011043 parameters, 3011027 gradients, 8.2 GFLOPs\n",
      "\n",
      "Transferred 355/355 items from pretrained weights\n",
      "\u001b[34m\u001b[1mTensorBoard: \u001b[0mStart with 'tensorboard --logdir runs\\detect\\yolo_pil5', view at http://localhost:6006/\n",
      "Freezing layer 'model.22.dfl.conv.weight'\n",
      "WARNING  imgsz=[1200] must be multiple of max stride 32, updating to [1216]\n"
     ]
    },
    {
     "name": "stderr",
     "output_type": "stream",
     "text": [
      "\u001b[34m\u001b[1mtrain: \u001b[0mScanning C:\\Users\\NajibS\\OneDrive - Process Integration Limited\\DigitalBrain\\PFD-ComputerVision\\process_flow_diagrams_detection_v4\\train\\data\\labels\\train.cache... 320 images, 0 backgrounds, 0 corrupt: 100%|██████████| 320/320 [00:00<?, ?it/s]\n",
      "\u001b[34m\u001b[1mval: \u001b[0mScanning C:\\Users\\NajibS\\OneDrive - Process Integration Limited\\DigitalBrain\\PFD-ComputerVision\\process_flow_diagrams_detection_v4\\train\\data\\labels\\val.cache... 80 images, 0 backgrounds, 0 corrupt: 100%|██████████| 80/80 [00:00<?, ?it/s]"
     ]
    },
    {
     "name": "stdout",
     "output_type": "stream",
     "text": [
      "Plotting labels to runs\\detect\\yolo_pil5\\labels.jpg... \n"
     ]
    },
    {
     "name": "stderr",
     "output_type": "stream",
     "text": [
      "\n"
     ]
    },
    {
     "name": "stdout",
     "output_type": "stream",
     "text": [
      "\u001b[34m\u001b[1moptimizer:\u001b[0m AdamW(lr=0.01, momentum=0.937) with parameter groups 57 weight(decay=0.0), 64 weight(decay=0.005), 63 bias(decay=0.0)\n",
      "\u001b[34m\u001b[1mTensorBoard: \u001b[0mmodel graph visualization added \n",
      "Image sizes 1216 train, 1216 val\n",
      "Using 0 dataloader workers\n",
      "Logging results to \u001b[1mruns\\detect\\yolo_pil5\u001b[0m\n",
      "Starting training for 100 epochs...\n",
      "\n",
      "      Epoch    GPU_mem   box_loss   cls_loss   dfl_loss  Instances       Size\n"
     ]
    },
    {
     "name": "stderr",
     "output_type": "stream",
     "text": [
      "      1/100         0G     0.4701     0.2881     0.8337       1024       1216: 100%|██████████| 20/20 [09:03<00:00, 27.16s/it]\n",
      "                 Class     Images  Instances      Box(P          R      mAP50  mAP50-95): 100%|██████████| 3/3 [00:47<00:00, 15.83s/it]"
     ]
    },
    {
     "name": "stdout",
     "output_type": "stream",
     "text": [
      "                   all         80       3545      0.524      0.476      0.522      0.427\n"
     ]
    },
    {
     "name": "stderr",
     "output_type": "stream",
     "text": [
      "\n"
     ]
    },
    {
     "name": "stdout",
     "output_type": "stream",
     "text": [
      "\n",
      "      Epoch    GPU_mem   box_loss   cls_loss   dfl_loss  Instances       Size\n"
     ]
    },
    {
     "name": "stderr",
     "output_type": "stream",
     "text": [
      "      2/100         0G     0.4469     0.2812     0.8289       1010       1216: 100%|██████████| 20/20 [08:13<00:00, 24.68s/it]\n",
      "                 Class     Images  Instances      Box(P          R      mAP50  mAP50-95): 100%|██████████| 3/3 [00:46<00:00, 15.58s/it]"
     ]
    },
    {
     "name": "stdout",
     "output_type": "stream",
     "text": [
      "                   all         80       3545      0.997       0.99      0.995      0.934\n"
     ]
    },
    {
     "name": "stderr",
     "output_type": "stream",
     "text": [
      "\n"
     ]
    },
    {
     "name": "stdout",
     "output_type": "stream",
     "text": [
      "\n",
      "      Epoch    GPU_mem   box_loss   cls_loss   dfl_loss  Instances       Size\n"
     ]
    },
    {
     "name": "stderr",
     "output_type": "stream",
     "text": [
      "      3/100         0G     0.4393     0.2774     0.8253       1164       1216: 100%|██████████| 20/20 [08:09<00:00, 24.45s/it]\n",
      "                 Class     Images  Instances      Box(P          R      mAP50  mAP50-95): 100%|██████████| 3/3 [00:47<00:00, 15.71s/it]"
     ]
    },
    {
     "name": "stdout",
     "output_type": "stream",
     "text": [
      "                   all         80       3545      0.961      0.966      0.967       0.87\n"
     ]
    },
    {
     "name": "stderr",
     "output_type": "stream",
     "text": [
      "\n"
     ]
    },
    {
     "name": "stdout",
     "output_type": "stream",
     "text": [
      "\n",
      "      Epoch    GPU_mem   box_loss   cls_loss   dfl_loss  Instances       Size\n"
     ]
    },
    {
     "name": "stderr",
     "output_type": "stream",
     "text": [
      "      4/100         0G     0.4498     0.2843     0.8261       1119       1216: 100%|██████████| 20/20 [08:10<00:00, 24.55s/it]\n",
      "                 Class     Images  Instances      Box(P          R      mAP50  mAP50-95): 100%|██████████| 3/3 [00:47<00:00, 15.76s/it]"
     ]
    },
    {
     "name": "stdout",
     "output_type": "stream",
     "text": [
      "                   all         80       3545      0.983      0.981      0.993      0.915\n"
     ]
    },
    {
     "name": "stderr",
     "output_type": "stream",
     "text": [
      "\n"
     ]
    },
    {
     "name": "stdout",
     "output_type": "stream",
     "text": [
      "\n",
      "      Epoch    GPU_mem   box_loss   cls_loss   dfl_loss  Instances       Size\n"
     ]
    },
    {
     "name": "stderr",
     "output_type": "stream",
     "text": [
      "      5/100         0G     0.4495     0.2885     0.8277        791       1216: 100%|██████████| 20/20 [08:08<00:00, 24.44s/it]\n",
      "                 Class     Images  Instances      Box(P          R      mAP50  mAP50-95): 100%|██████████| 3/3 [00:47<00:00, 15.78s/it]"
     ]
    },
    {
     "name": "stdout",
     "output_type": "stream",
     "text": [
      "                   all         80       3545      0.993      0.988      0.995       0.92\n"
     ]
    },
    {
     "name": "stderr",
     "output_type": "stream",
     "text": [
      "\n"
     ]
    },
    {
     "name": "stdout",
     "output_type": "stream",
     "text": [
      "\n",
      "      Epoch    GPU_mem   box_loss   cls_loss   dfl_loss  Instances       Size\n"
     ]
    },
    {
     "name": "stderr",
     "output_type": "stream",
     "text": [
      "      6/100         0G     0.4484     0.2885      0.831        806       1216: 100%|██████████| 20/20 [08:11<00:00, 24.58s/it]\n",
      "                 Class     Images  Instances      Box(P          R      mAP50  mAP50-95): 100%|██████████| 3/3 [00:46<00:00, 15.64s/it]"
     ]
    },
    {
     "name": "stdout",
     "output_type": "stream",
     "text": [
      "                   all         80       3545      0.992      0.987      0.994      0.921\n"
     ]
    },
    {
     "name": "stderr",
     "output_type": "stream",
     "text": [
      "\n"
     ]
    },
    {
     "name": "stdout",
     "output_type": "stream",
     "text": [
      "\n",
      "      Epoch    GPU_mem   box_loss   cls_loss   dfl_loss  Instances       Size\n"
     ]
    },
    {
     "name": "stderr",
     "output_type": "stream",
     "text": [
      "      7/100         0G     0.4428     0.2855     0.8285       1047       1216: 100%|██████████| 20/20 [08:14<00:00, 24.75s/it]\n",
      "                 Class     Images  Instances      Box(P          R      mAP50  mAP50-95): 100%|██████████| 3/3 [00:47<00:00, 15.76s/it]"
     ]
    },
    {
     "name": "stdout",
     "output_type": "stream",
     "text": [
      "                   all         80       3545      0.998      0.997      0.995      0.942\n"
     ]
    },
    {
     "name": "stderr",
     "output_type": "stream",
     "text": [
      "\n"
     ]
    },
    {
     "name": "stdout",
     "output_type": "stream",
     "text": [
      "\n",
      "      Epoch    GPU_mem   box_loss   cls_loss   dfl_loss  Instances       Size\n"
     ]
    },
    {
     "name": "stderr",
     "output_type": "stream",
     "text": [
      "      8/100         0G     0.4382     0.2837     0.8241        885       1216: 100%|██████████| 20/20 [08:12<00:00, 24.60s/it]\n",
      "                 Class     Images  Instances      Box(P          R      mAP50  mAP50-95): 100%|██████████| 3/3 [00:46<00:00, 15.54s/it]"
     ]
    },
    {
     "name": "stdout",
     "output_type": "stream",
     "text": [
      "                   all         80       3545      0.998      0.998      0.995      0.936\n"
     ]
    },
    {
     "name": "stderr",
     "output_type": "stream",
     "text": [
      "\n"
     ]
    },
    {
     "name": "stdout",
     "output_type": "stream",
     "text": [
      "\n",
      "      Epoch    GPU_mem   box_loss   cls_loss   dfl_loss  Instances       Size\n"
     ]
    },
    {
     "name": "stderr",
     "output_type": "stream",
     "text": [
      "      9/100         0G     0.4465     0.2852     0.8229       1141       1216: 100%|██████████| 20/20 [08:06<00:00, 24.31s/it]\n",
      "                 Class     Images  Instances      Box(P          R      mAP50  mAP50-95): 100%|██████████| 3/3 [00:46<00:00, 15.64s/it]"
     ]
    },
    {
     "name": "stdout",
     "output_type": "stream",
     "text": [
      "                   all         80       3545      0.998      0.997      0.995      0.944\n"
     ]
    },
    {
     "name": "stderr",
     "output_type": "stream",
     "text": [
      "\n"
     ]
    },
    {
     "name": "stdout",
     "output_type": "stream",
     "text": [
      "\n",
      "      Epoch    GPU_mem   box_loss   cls_loss   dfl_loss  Instances       Size\n"
     ]
    },
    {
     "name": "stderr",
     "output_type": "stream",
     "text": [
      "     10/100         0G     0.4453     0.2803     0.8276       1290       1216: 100%|██████████| 20/20 [08:06<00:00, 24.31s/it]\n",
      "                 Class     Images  Instances      Box(P          R      mAP50  mAP50-95): 100%|██████████| 3/3 [00:47<00:00, 15.76s/it]"
     ]
    },
    {
     "name": "stdout",
     "output_type": "stream",
     "text": [
      "                   all         80       3545      0.997      0.996      0.995      0.938\n"
     ]
    },
    {
     "name": "stderr",
     "output_type": "stream",
     "text": [
      "\n"
     ]
    },
    {
     "name": "stdout",
     "output_type": "stream",
     "text": [
      "\n",
      "      Epoch    GPU_mem   box_loss   cls_loss   dfl_loss  Instances       Size\n"
     ]
    },
    {
     "name": "stderr",
     "output_type": "stream",
     "text": [
      "     11/100         0G     0.4336     0.2737     0.8203        961       1216: 100%|██████████| 20/20 [08:08<00:00, 24.44s/it]\n",
      "                 Class     Images  Instances      Box(P          R      mAP50  mAP50-95): 100%|██████████| 3/3 [00:47<00:00, 15.71s/it]"
     ]
    },
    {
     "name": "stdout",
     "output_type": "stream",
     "text": [
      "                   all         80       3545      0.999      0.997      0.995      0.945\n"
     ]
    },
    {
     "name": "stderr",
     "output_type": "stream",
     "text": [
      "\n"
     ]
    },
    {
     "name": "stdout",
     "output_type": "stream",
     "text": [
      "\n",
      "      Epoch    GPU_mem   box_loss   cls_loss   dfl_loss  Instances       Size\n"
     ]
    },
    {
     "name": "stderr",
     "output_type": "stream",
     "text": [
      "     12/100         0G     0.4255     0.2701     0.8189       1033       1216: 100%|██████████| 20/20 [08:07<00:00, 24.36s/it]\n",
      "                 Class     Images  Instances      Box(P          R      mAP50  mAP50-95): 100%|██████████| 3/3 [00:47<00:00, 15.74s/it]"
     ]
    },
    {
     "name": "stdout",
     "output_type": "stream",
     "text": [
      "                   all         80       3545      0.999      0.998      0.995      0.949\n"
     ]
    },
    {
     "name": "stderr",
     "output_type": "stream",
     "text": [
      "\n"
     ]
    },
    {
     "name": "stdout",
     "output_type": "stream",
     "text": [
      "\n",
      "      Epoch    GPU_mem   box_loss   cls_loss   dfl_loss  Instances       Size\n"
     ]
    },
    {
     "name": "stderr",
     "output_type": "stream",
     "text": [
      "     13/100         0G     0.4258     0.2688     0.8238        891       1216: 100%|██████████| 20/20 [08:05<00:00, 24.29s/it]\n",
      "                 Class     Images  Instances      Box(P          R      mAP50  mAP50-95): 100%|██████████| 3/3 [00:46<00:00, 15.54s/it]"
     ]
    },
    {
     "name": "stdout",
     "output_type": "stream",
     "text": [
      "                   all         80       3545      0.997      0.996      0.995      0.946\n"
     ]
    },
    {
     "name": "stderr",
     "output_type": "stream",
     "text": [
      "\n"
     ]
    },
    {
     "name": "stdout",
     "output_type": "stream",
     "text": [
      "\n",
      "      Epoch    GPU_mem   box_loss   cls_loss   dfl_loss  Instances       Size\n"
     ]
    },
    {
     "name": "stderr",
     "output_type": "stream",
     "text": [
      "     14/100         0G     0.4179     0.2673     0.8201       1397       1216: 100%|██████████| 20/20 [08:02<00:00, 24.11s/it]\n",
      "                 Class     Images  Instances      Box(P          R      mAP50  mAP50-95): 100%|██████████| 3/3 [00:47<00:00, 15.67s/it]"
     ]
    },
    {
     "name": "stdout",
     "output_type": "stream",
     "text": [
      "                   all         80       3545      0.999      0.998      0.995      0.941\n"
     ]
    },
    {
     "name": "stderr",
     "output_type": "stream",
     "text": [
      "\n"
     ]
    },
    {
     "name": "stdout",
     "output_type": "stream",
     "text": [
      "\n",
      "      Epoch    GPU_mem   box_loss   cls_loss   dfl_loss  Instances       Size\n"
     ]
    },
    {
     "name": "stderr",
     "output_type": "stream",
     "text": [
      "     15/100         0G     0.4126     0.2611     0.8198       1110       1216: 100%|██████████| 20/20 [07:57<00:00, 23.88s/it]\n",
      "                 Class     Images  Instances      Box(P          R      mAP50  mAP50-95): 100%|██████████| 3/3 [00:47<00:00, 15.71s/it]"
     ]
    },
    {
     "name": "stdout",
     "output_type": "stream",
     "text": [
      "                   all         80       3545          1      0.999      0.995      0.948\n"
     ]
    },
    {
     "name": "stderr",
     "output_type": "stream",
     "text": [
      "\n"
     ]
    },
    {
     "name": "stdout",
     "output_type": "stream",
     "text": [
      "\n",
      "      Epoch    GPU_mem   box_loss   cls_loss   dfl_loss  Instances       Size\n"
     ]
    },
    {
     "name": "stderr",
     "output_type": "stream",
     "text": [
      "     16/100         0G     0.4097     0.2589     0.8181        742       1216: 100%|██████████| 20/20 [08:04<00:00, 24.24s/it]\n",
      "                 Class     Images  Instances      Box(P          R      mAP50  mAP50-95): 100%|██████████| 3/3 [00:47<00:00, 15.69s/it]"
     ]
    },
    {
     "name": "stdout",
     "output_type": "stream",
     "text": [
      "                   all         80       3545          1      0.999      0.995      0.948\n"
     ]
    },
    {
     "name": "stderr",
     "output_type": "stream",
     "text": [
      "\n"
     ]
    },
    {
     "name": "stdout",
     "output_type": "stream",
     "text": [
      "\n",
      "      Epoch    GPU_mem   box_loss   cls_loss   dfl_loss  Instances       Size\n"
     ]
    },
    {
     "name": "stderr",
     "output_type": "stream",
     "text": [
      "     17/100         0G     0.3994     0.2545     0.8175       1013       1216: 100%|██████████| 20/20 [08:02<00:00, 24.11s/it]\n",
      "                 Class     Images  Instances      Box(P          R      mAP50  mAP50-95): 100%|██████████| 3/3 [00:47<00:00, 15.71s/it]"
     ]
    },
    {
     "name": "stdout",
     "output_type": "stream",
     "text": [
      "                   all         80       3545          1      0.999      0.995      0.954\n"
     ]
    },
    {
     "name": "stderr",
     "output_type": "stream",
     "text": [
      "\n"
     ]
    },
    {
     "name": "stdout",
     "output_type": "stream",
     "text": [
      "\n",
      "      Epoch    GPU_mem   box_loss   cls_loss   dfl_loss  Instances       Size\n"
     ]
    },
    {
     "name": "stderr",
     "output_type": "stream",
     "text": [
      "     18/100         0G     0.4063     0.2546     0.8173        784       1216: 100%|██████████| 20/20 [08:06<00:00, 24.34s/it]\n",
      "                 Class     Images  Instances      Box(P          R      mAP50  mAP50-95): 100%|██████████| 3/3 [00:46<00:00, 15.56s/it]"
     ]
    },
    {
     "name": "stdout",
     "output_type": "stream",
     "text": [
      "                   all         80       3545          1      0.999      0.995      0.953\n"
     ]
    },
    {
     "name": "stderr",
     "output_type": "stream",
     "text": [
      "\n"
     ]
    },
    {
     "name": "stdout",
     "output_type": "stream",
     "text": [
      "\n",
      "      Epoch    GPU_mem   box_loss   cls_loss   dfl_loss  Instances       Size\n"
     ]
    },
    {
     "name": "stderr",
     "output_type": "stream",
     "text": [
      "     19/100         0G      0.395     0.2503     0.8158        893       1216: 100%|██████████| 20/20 [08:09<00:00, 24.47s/it]\n",
      "                 Class     Images  Instances      Box(P          R      mAP50  mAP50-95): 100%|██████████| 3/3 [00:47<00:00, 15.75s/it]"
     ]
    },
    {
     "name": "stdout",
     "output_type": "stream",
     "text": [
      "                   all         80       3545          1      0.998      0.995      0.953\n"
     ]
    },
    {
     "name": "stderr",
     "output_type": "stream",
     "text": [
      "\n"
     ]
    },
    {
     "name": "stdout",
     "output_type": "stream",
     "text": [
      "\n",
      "      Epoch    GPU_mem   box_loss   cls_loss   dfl_loss  Instances       Size\n"
     ]
    },
    {
     "name": "stderr",
     "output_type": "stream",
     "text": [
      "     20/100         0G     0.4009      0.251      0.815        973       1216: 100%|██████████| 20/20 [08:04<00:00, 24.20s/it]\n",
      "                 Class     Images  Instances      Box(P          R      mAP50  mAP50-95): 100%|██████████| 3/3 [00:47<00:00, 15.78s/it]"
     ]
    },
    {
     "name": "stdout",
     "output_type": "stream",
     "text": [
      "                   all         80       3545      0.999      0.998      0.995      0.953\n"
     ]
    },
    {
     "name": "stderr",
     "output_type": "stream",
     "text": [
      "\n"
     ]
    },
    {
     "name": "stdout",
     "output_type": "stream",
     "text": [
      "\n",
      "      Epoch    GPU_mem   box_loss   cls_loss   dfl_loss  Instances       Size\n"
     ]
    },
    {
     "name": "stderr",
     "output_type": "stream",
     "text": [
      "     21/100         0G     0.4103      0.255     0.8196        908       1216: 100%|██████████| 20/20 [08:11<00:00, 24.59s/it]\n",
      "                 Class     Images  Instances      Box(P          R      mAP50  mAP50-95): 100%|██████████| 3/3 [00:46<00:00, 15.64s/it]"
     ]
    },
    {
     "name": "stdout",
     "output_type": "stream",
     "text": [
      "                   all         80       3545          1      0.998      0.995      0.953\n"
     ]
    },
    {
     "name": "stderr",
     "output_type": "stream",
     "text": [
      "\n"
     ]
    },
    {
     "name": "stdout",
     "output_type": "stream",
     "text": [
      "\n",
      "      Epoch    GPU_mem   box_loss   cls_loss   dfl_loss  Instances       Size\n"
     ]
    },
    {
     "name": "stderr",
     "output_type": "stream",
     "text": [
      "     22/100         0G     0.3954     0.2476     0.8158        806       1216: 100%|██████████| 20/20 [08:03<00:00, 24.18s/it]\n",
      "                 Class     Images  Instances      Box(P          R      mAP50  mAP50-95): 100%|██████████| 3/3 [00:46<00:00, 15.58s/it]"
     ]
    },
    {
     "name": "stdout",
     "output_type": "stream",
     "text": [
      "                   all         80       3545      0.999      0.999      0.995       0.96\n"
     ]
    },
    {
     "name": "stderr",
     "output_type": "stream",
     "text": [
      "\n"
     ]
    },
    {
     "name": "stdout",
     "output_type": "stream",
     "text": [
      "\n",
      "      Epoch    GPU_mem   box_loss   cls_loss   dfl_loss  Instances       Size\n"
     ]
    },
    {
     "name": "stderr",
     "output_type": "stream",
     "text": [
      "     23/100         0G      0.387     0.2423     0.8119       1099       1216: 100%|██████████| 20/20 [08:03<00:00, 24.20s/it]\n",
      "                 Class     Images  Instances      Box(P          R      mAP50  mAP50-95): 100%|██████████| 3/3 [00:46<00:00, 15.66s/it]"
     ]
    },
    {
     "name": "stdout",
     "output_type": "stream",
     "text": [
      "                   all         80       3545      0.999      0.999      0.995       0.96\n"
     ]
    },
    {
     "name": "stderr",
     "output_type": "stream",
     "text": [
      "\n"
     ]
    },
    {
     "name": "stdout",
     "output_type": "stream",
     "text": [
      "\n",
      "      Epoch    GPU_mem   box_loss   cls_loss   dfl_loss  Instances       Size\n"
     ]
    },
    {
     "name": "stderr",
     "output_type": "stream",
     "text": [
      "     24/100         0G     0.3846     0.2403     0.8099       1204       1216: 100%|██████████| 20/20 [08:10<00:00, 24.50s/it]\n",
      "                 Class     Images  Instances      Box(P          R      mAP50  mAP50-95): 100%|██████████| 3/3 [00:46<00:00, 15.58s/it]"
     ]
    },
    {
     "name": "stdout",
     "output_type": "stream",
     "text": [
      "                   all         80       3545      0.999      0.998      0.995      0.957\n"
     ]
    },
    {
     "name": "stderr",
     "output_type": "stream",
     "text": [
      "\n"
     ]
    },
    {
     "name": "stdout",
     "output_type": "stream",
     "text": [
      "\n",
      "      Epoch    GPU_mem   box_loss   cls_loss   dfl_loss  Instances       Size\n"
     ]
    },
    {
     "name": "stderr",
     "output_type": "stream",
     "text": [
      "     25/100         0G      0.381     0.2377     0.8125        885       1216: 100%|██████████| 20/20 [08:03<00:00, 24.18s/it]\n",
      "                 Class     Images  Instances      Box(P          R      mAP50  mAP50-95): 100%|██████████| 3/3 [00:47<00:00, 15.77s/it]"
     ]
    },
    {
     "name": "stdout",
     "output_type": "stream",
     "text": [
      "                   all         80       3545      0.999      0.999      0.995      0.962\n"
     ]
    },
    {
     "name": "stderr",
     "output_type": "stream",
     "text": [
      "\n"
     ]
    },
    {
     "name": "stdout",
     "output_type": "stream",
     "text": [
      "\n",
      "      Epoch    GPU_mem   box_loss   cls_loss   dfl_loss  Instances       Size\n"
     ]
    },
    {
     "name": "stderr",
     "output_type": "stream",
     "text": [
      "     26/100         0G     0.3821     0.2372     0.8128        962       1216: 100%|██████████| 20/20 [08:07<00:00, 24.38s/it]\n",
      "                 Class     Images  Instances      Box(P          R      mAP50  mAP50-95): 100%|██████████| 3/3 [00:47<00:00, 15.77s/it]"
     ]
    },
    {
     "name": "stdout",
     "output_type": "stream",
     "text": [
      "                   all         80       3545      0.945      0.931       0.96      0.897\n"
     ]
    },
    {
     "name": "stderr",
     "output_type": "stream",
     "text": [
      "\n"
     ]
    },
    {
     "name": "stdout",
     "output_type": "stream",
     "text": [
      "\n",
      "      Epoch    GPU_mem   box_loss   cls_loss   dfl_loss  Instances       Size\n"
     ]
    },
    {
     "name": "stderr",
     "output_type": "stream",
     "text": [
      "     27/100         0G      0.378     0.2381     0.8144        851       1216: 100%|██████████| 20/20 [08:05<00:00, 24.28s/it]\n",
      "                 Class     Images  Instances      Box(P          R      mAP50  mAP50-95): 100%|██████████| 3/3 [00:47<00:00, 15.78s/it]"
     ]
    },
    {
     "name": "stdout",
     "output_type": "stream",
     "text": [
      "                   all         80       3545      0.999      0.999      0.995      0.959\n"
     ]
    },
    {
     "name": "stderr",
     "output_type": "stream",
     "text": [
      "\n"
     ]
    },
    {
     "name": "stdout",
     "output_type": "stream",
     "text": [
      "\n",
      "      Epoch    GPU_mem   box_loss   cls_loss   dfl_loss  Instances       Size\n"
     ]
    },
    {
     "name": "stderr",
     "output_type": "stream",
     "text": [
      "     28/100         0G     0.3859     0.2386     0.8127        917       1216: 100%|██████████| 20/20 [08:06<00:00, 24.33s/it]\n",
      "                 Class     Images  Instances      Box(P          R      mAP50  mAP50-95): 100%|██████████| 3/3 [00:47<00:00, 15.74s/it]"
     ]
    },
    {
     "name": "stdout",
     "output_type": "stream",
     "text": [
      "                   all         80       3545      0.999      0.999      0.995      0.959\n"
     ]
    },
    {
     "name": "stderr",
     "output_type": "stream",
     "text": [
      "\n"
     ]
    },
    {
     "name": "stdout",
     "output_type": "stream",
     "text": [
      "\n",
      "      Epoch    GPU_mem   box_loss   cls_loss   dfl_loss  Instances       Size\n"
     ]
    },
    {
     "name": "stderr",
     "output_type": "stream",
     "text": [
      "     29/100         0G     0.3719     0.2352     0.8121        993       1216: 100%|██████████| 20/20 [08:01<00:00, 24.08s/it]\n",
      "                 Class     Images  Instances      Box(P          R      mAP50  mAP50-95): 100%|██████████| 3/3 [00:46<00:00, 15.61s/it]"
     ]
    },
    {
     "name": "stdout",
     "output_type": "stream",
     "text": [
      "                   all         80       3545          1      0.994      0.995      0.957\n"
     ]
    },
    {
     "name": "stderr",
     "output_type": "stream",
     "text": [
      "\n"
     ]
    },
    {
     "name": "stdout",
     "output_type": "stream",
     "text": [
      "\n",
      "      Epoch    GPU_mem   box_loss   cls_loss   dfl_loss  Instances       Size\n"
     ]
    },
    {
     "name": "stderr",
     "output_type": "stream",
     "text": [
      "     30/100         0G     0.3699     0.2314     0.8089        879       1216: 100%|██████████| 20/20 [08:06<00:00, 24.34s/it]\n",
      "                 Class     Images  Instances      Box(P          R      mAP50  mAP50-95): 100%|██████████| 3/3 [00:46<00:00, 15.63s/it]"
     ]
    },
    {
     "name": "stdout",
     "output_type": "stream",
     "text": [
      "                   all         80       3545          1      0.999      0.995      0.962\n"
     ]
    },
    {
     "name": "stderr",
     "output_type": "stream",
     "text": [
      "\n"
     ]
    },
    {
     "name": "stdout",
     "output_type": "stream",
     "text": [
      "\n",
      "      Epoch    GPU_mem   box_loss   cls_loss   dfl_loss  Instances       Size\n"
     ]
    },
    {
     "name": "stderr",
     "output_type": "stream",
     "text": [
      "     31/100         0G     0.3775     0.2355     0.8109       1106       1216: 100%|██████████| 20/20 [08:09<00:00, 24.47s/it]\n",
      "                 Class     Images  Instances      Box(P          R      mAP50  mAP50-95): 100%|██████████| 3/3 [00:47<00:00, 15.92s/it]"
     ]
    },
    {
     "name": "stdout",
     "output_type": "stream",
     "text": [
      "                   all         80       3545      0.999      0.999      0.995      0.956\n"
     ]
    },
    {
     "name": "stderr",
     "output_type": "stream",
     "text": [
      "\n"
     ]
    },
    {
     "name": "stdout",
     "output_type": "stream",
     "text": [
      "\n",
      "      Epoch    GPU_mem   box_loss   cls_loss   dfl_loss  Instances       Size\n"
     ]
    },
    {
     "name": "stderr",
     "output_type": "stream",
     "text": [
      "     32/100         0G     0.3626     0.2303     0.8106        990       1216: 100%|██████████| 20/20 [08:08<00:00, 24.42s/it]\n",
      "                 Class     Images  Instances      Box(P          R      mAP50  mAP50-95): 100%|██████████| 3/3 [00:47<00:00, 15.86s/it]"
     ]
    },
    {
     "name": "stdout",
     "output_type": "stream",
     "text": [
      "                   all         80       3545      0.999      0.998      0.995      0.957\n"
     ]
    },
    {
     "name": "stderr",
     "output_type": "stream",
     "text": [
      "\n"
     ]
    },
    {
     "name": "stdout",
     "output_type": "stream",
     "text": [
      "\n",
      "      Epoch    GPU_mem   box_loss   cls_loss   dfl_loss  Instances       Size\n"
     ]
    },
    {
     "name": "stderr",
     "output_type": "stream",
     "text": [
      "     33/100         0G     0.3715     0.2336     0.8104       1023       1216: 100%|██████████| 20/20 [08:04<00:00, 24.22s/it]\n",
      "                 Class     Images  Instances      Box(P          R      mAP50  mAP50-95): 100%|██████████| 3/3 [00:46<00:00, 15.61s/it]"
     ]
    },
    {
     "name": "stdout",
     "output_type": "stream",
     "text": [
      "                   all         80       3545      0.999      0.998      0.995      0.955\n"
     ]
    },
    {
     "name": "stderr",
     "output_type": "stream",
     "text": [
      "\n"
     ]
    },
    {
     "name": "stdout",
     "output_type": "stream",
     "text": [
      "\n",
      "      Epoch    GPU_mem   box_loss   cls_loss   dfl_loss  Instances       Size\n"
     ]
    },
    {
     "name": "stderr",
     "output_type": "stream",
     "text": [
      "     34/100         0G     0.3717     0.2331     0.8136        848       1216: 100%|██████████| 20/20 [08:08<00:00, 24.41s/it]\n",
      "                 Class     Images  Instances      Box(P          R      mAP50  mAP50-95): 100%|██████████| 3/3 [00:47<00:00, 15.70s/it]"
     ]
    },
    {
     "name": "stdout",
     "output_type": "stream",
     "text": [
      "                   all         80       3545      0.999      0.998      0.995      0.963\n"
     ]
    },
    {
     "name": "stderr",
     "output_type": "stream",
     "text": [
      "\n"
     ]
    },
    {
     "name": "stdout",
     "output_type": "stream",
     "text": [
      "\n",
      "      Epoch    GPU_mem   box_loss   cls_loss   dfl_loss  Instances       Size\n"
     ]
    },
    {
     "name": "stderr",
     "output_type": "stream",
     "text": [
      "     35/100         0G      0.363     0.2296     0.8093        927       1216: 100%|██████████| 20/20 [08:02<00:00, 24.14s/it]\n",
      "                 Class     Images  Instances      Box(P          R      mAP50  mAP50-95): 100%|██████████| 3/3 [00:47<00:00, 15.72s/it]"
     ]
    },
    {
     "name": "stdout",
     "output_type": "stream",
     "text": [
      "                   all         80       3545          1      0.998      0.995      0.955\n"
     ]
    },
    {
     "name": "stderr",
     "output_type": "stream",
     "text": [
      "\n"
     ]
    },
    {
     "name": "stdout",
     "output_type": "stream",
     "text": [
      "\n",
      "      Epoch    GPU_mem   box_loss   cls_loss   dfl_loss  Instances       Size\n"
     ]
    },
    {
     "name": "stderr",
     "output_type": "stream",
     "text": [
      "     36/100         0G     0.3737     0.2305      0.809        987       1216: 100%|██████████| 20/20 [08:08<00:00, 24.44s/it]\n",
      "                 Class     Images  Instances      Box(P          R      mAP50  mAP50-95): 100%|██████████| 3/3 [00:46<00:00, 15.63s/it]"
     ]
    },
    {
     "name": "stdout",
     "output_type": "stream",
     "text": [
      "                   all         80       3545      0.999      0.997      0.995      0.955\n"
     ]
    },
    {
     "name": "stderr",
     "output_type": "stream",
     "text": [
      "\n"
     ]
    },
    {
     "name": "stdout",
     "output_type": "stream",
     "text": [
      "\n",
      "      Epoch    GPU_mem   box_loss   cls_loss   dfl_loss  Instances       Size\n"
     ]
    },
    {
     "name": "stderr",
     "output_type": "stream",
     "text": [
      "     37/100         0G     0.3797     0.2358     0.8123        984       1216: 100%|██████████| 20/20 [08:07<00:00, 24.37s/it]\n",
      "                 Class     Images  Instances      Box(P          R      mAP50  mAP50-95): 100%|██████████| 3/3 [00:46<00:00, 15.56s/it]"
     ]
    },
    {
     "name": "stdout",
     "output_type": "stream",
     "text": [
      "                   all         80       3545          1      0.997      0.995       0.96\n"
     ]
    },
    {
     "name": "stderr",
     "output_type": "stream",
     "text": [
      "\n"
     ]
    },
    {
     "name": "stdout",
     "output_type": "stream",
     "text": [
      "\n",
      "      Epoch    GPU_mem   box_loss   cls_loss   dfl_loss  Instances       Size\n"
     ]
    },
    {
     "name": "stderr",
     "output_type": "stream",
     "text": [
      "     38/100         0G     0.3661     0.2302     0.8087       1033       1216: 100%|██████████| 20/20 [08:08<00:00, 24.45s/it]\n",
      "                 Class     Images  Instances      Box(P          R      mAP50  mAP50-95): 100%|██████████| 3/3 [00:46<00:00, 15.58s/it]"
     ]
    },
    {
     "name": "stdout",
     "output_type": "stream",
     "text": [
      "                   all         80       3545      0.999      0.999      0.995      0.962\n"
     ]
    },
    {
     "name": "stderr",
     "output_type": "stream",
     "text": [
      "\n"
     ]
    },
    {
     "name": "stdout",
     "output_type": "stream",
     "text": [
      "\n",
      "      Epoch    GPU_mem   box_loss   cls_loss   dfl_loss  Instances       Size\n"
     ]
    },
    {
     "name": "stderr",
     "output_type": "stream",
     "text": [
      "     39/100         0G     0.3631     0.2283     0.8075        943       1216: 100%|██████████| 20/20 [08:09<00:00, 24.46s/it]\n",
      "                 Class     Images  Instances      Box(P          R      mAP50  mAP50-95): 100%|██████████| 3/3 [00:46<00:00, 15.65s/it]"
     ]
    },
    {
     "name": "stdout",
     "output_type": "stream",
     "text": [
      "                   all         80       3545      0.999      0.999      0.995      0.955\n"
     ]
    },
    {
     "name": "stderr",
     "output_type": "stream",
     "text": [
      "\n"
     ]
    },
    {
     "name": "stdout",
     "output_type": "stream",
     "text": [
      "\n",
      "      Epoch    GPU_mem   box_loss   cls_loss   dfl_loss  Instances       Size\n"
     ]
    },
    {
     "name": "stderr",
     "output_type": "stream",
     "text": [
      "     40/100         0G      0.363     0.2253      0.808       1055       1216: 100%|██████████| 20/20 [08:07<00:00, 24.38s/it]\n",
      "                 Class     Images  Instances      Box(P          R      mAP50  mAP50-95): 100%|██████████| 3/3 [00:47<00:00, 15.67s/it]"
     ]
    },
    {
     "name": "stdout",
     "output_type": "stream",
     "text": [
      "                   all         80       3545          1      0.998      0.995      0.957\n"
     ]
    },
    {
     "name": "stderr",
     "output_type": "stream",
     "text": [
      "\n"
     ]
    },
    {
     "name": "stdout",
     "output_type": "stream",
     "text": [
      "\n",
      "      Epoch    GPU_mem   box_loss   cls_loss   dfl_loss  Instances       Size\n"
     ]
    },
    {
     "name": "stderr",
     "output_type": "stream",
     "text": [
      "     41/100         0G     0.3618     0.2273     0.8081        941       1216: 100%|██████████| 20/20 [08:08<00:00, 24.42s/it]\n",
      "                 Class     Images  Instances      Box(P          R      mAP50  mAP50-95): 100%|██████████| 3/3 [00:46<00:00, 15.62s/it]"
     ]
    },
    {
     "name": "stdout",
     "output_type": "stream",
     "text": [
      "                   all         80       3545      0.999      0.998      0.995      0.961\n"
     ]
    },
    {
     "name": "stderr",
     "output_type": "stream",
     "text": [
      "\n"
     ]
    },
    {
     "name": "stdout",
     "output_type": "stream",
     "text": [
      "\n",
      "      Epoch    GPU_mem   box_loss   cls_loss   dfl_loss  Instances       Size\n"
     ]
    },
    {
     "name": "stderr",
     "output_type": "stream",
     "text": [
      "     42/100         0G     0.3628     0.2267     0.8094       1259       1216: 100%|██████████| 20/20 [08:06<00:00, 24.34s/it]\n",
      "                 Class     Images  Instances      Box(P          R      mAP50  mAP50-95): 100%|██████████| 3/3 [00:46<00:00, 15.61s/it]"
     ]
    },
    {
     "name": "stdout",
     "output_type": "stream",
     "text": [
      "                   all         80       3545      0.999      0.999      0.995      0.963\n"
     ]
    },
    {
     "name": "stderr",
     "output_type": "stream",
     "text": [
      "\n"
     ]
    },
    {
     "name": "stdout",
     "output_type": "stream",
     "text": [
      "\n",
      "      Epoch    GPU_mem   box_loss   cls_loss   dfl_loss  Instances       Size\n"
     ]
    },
    {
     "name": "stderr",
     "output_type": "stream",
     "text": [
      "     43/100         0G      0.364      0.226     0.8081        771       1216: 100%|██████████| 20/20 [08:04<00:00, 24.20s/it]\n",
      "                 Class     Images  Instances      Box(P          R      mAP50  mAP50-95): 100%|██████████| 3/3 [00:46<00:00, 15.55s/it]"
     ]
    },
    {
     "name": "stdout",
     "output_type": "stream",
     "text": [
      "                   all         80       3545      0.999      0.998      0.995      0.963\n"
     ]
    },
    {
     "name": "stderr",
     "output_type": "stream",
     "text": [
      "\n"
     ]
    },
    {
     "name": "stdout",
     "output_type": "stream",
     "text": [
      "\n",
      "      Epoch    GPU_mem   box_loss   cls_loss   dfl_loss  Instances       Size\n"
     ]
    },
    {
     "name": "stderr",
     "output_type": "stream",
     "text": [
      "     44/100         0G     0.3646     0.2229     0.8083       1237       1216: 100%|██████████| 20/20 [08:05<00:00, 24.29s/it]\n",
      "                 Class     Images  Instances      Box(P          R      mAP50  mAP50-95): 100%|██████████| 3/3 [00:47<00:00, 15.70s/it]"
     ]
    },
    {
     "name": "stdout",
     "output_type": "stream",
     "text": [
      "                   all         80       3545          1      0.999      0.995      0.966\n"
     ]
    },
    {
     "name": "stderr",
     "output_type": "stream",
     "text": [
      "\n"
     ]
    },
    {
     "name": "stdout",
     "output_type": "stream",
     "text": [
      "\n",
      "      Epoch    GPU_mem   box_loss   cls_loss   dfl_loss  Instances       Size\n"
     ]
    },
    {
     "name": "stderr",
     "output_type": "stream",
     "text": [
      "     45/100         0G     0.3611     0.2228     0.8067       1160       1216: 100%|██████████| 20/20 [08:08<00:00, 24.40s/it]\n",
      "                 Class     Images  Instances      Box(P          R      mAP50  mAP50-95): 100%|██████████| 3/3 [00:47<00:00, 15.73s/it]"
     ]
    },
    {
     "name": "stdout",
     "output_type": "stream",
     "text": [
      "                   all         80       3545      0.999      0.999      0.995       0.96\n"
     ]
    },
    {
     "name": "stderr",
     "output_type": "stream",
     "text": [
      "\n"
     ]
    },
    {
     "name": "stdout",
     "output_type": "stream",
     "text": [
      "\n",
      "      Epoch    GPU_mem   box_loss   cls_loss   dfl_loss  Instances       Size\n"
     ]
    },
    {
     "name": "stderr",
     "output_type": "stream",
     "text": [
      "     46/100         0G     0.3602     0.2228     0.8114        886       1216: 100%|██████████| 20/20 [08:06<00:00, 24.34s/it]\n",
      "                 Class     Images  Instances      Box(P          R      mAP50  mAP50-95): 100%|██████████| 3/3 [00:47<00:00, 15.74s/it]"
     ]
    },
    {
     "name": "stdout",
     "output_type": "stream",
     "text": [
      "                   all         80       3545      0.999      0.999      0.995      0.963\n"
     ]
    },
    {
     "name": "stderr",
     "output_type": "stream",
     "text": [
      "\n"
     ]
    },
    {
     "name": "stdout",
     "output_type": "stream",
     "text": [
      "\n",
      "      Epoch    GPU_mem   box_loss   cls_loss   dfl_loss  Instances       Size\n"
     ]
    },
    {
     "name": "stderr",
     "output_type": "stream",
     "text": [
      "     47/100         0G     0.3604     0.2225     0.8058       1057       1216: 100%|██████████| 20/20 [08:06<00:00, 24.32s/it]\n",
      "                 Class     Images  Instances      Box(P          R      mAP50  mAP50-95): 100%|██████████| 3/3 [00:48<00:00, 16.10s/it]"
     ]
    },
    {
     "name": "stdout",
     "output_type": "stream",
     "text": [
      "                   all         80       3545          1      0.998      0.995      0.963\n"
     ]
    },
    {
     "name": "stderr",
     "output_type": "stream",
     "text": [
      "\n"
     ]
    },
    {
     "name": "stdout",
     "output_type": "stream",
     "text": [
      "\n",
      "      Epoch    GPU_mem   box_loss   cls_loss   dfl_loss  Instances       Size\n"
     ]
    },
    {
     "name": "stderr",
     "output_type": "stream",
     "text": [
      "     48/100         0G     0.3486     0.2157     0.8073        662       1216: 100%|██████████| 20/20 [08:05<00:00, 24.28s/it]\n",
      "                 Class     Images  Instances      Box(P          R      mAP50  mAP50-95): 100%|██████████| 3/3 [00:47<00:00, 15.78s/it]"
     ]
    },
    {
     "name": "stdout",
     "output_type": "stream",
     "text": [
      "                   all         80       3545      0.999      0.998      0.995      0.966\n"
     ]
    },
    {
     "name": "stderr",
     "output_type": "stream",
     "text": [
      "\n"
     ]
    },
    {
     "name": "stdout",
     "output_type": "stream",
     "text": [
      "\n",
      "      Epoch    GPU_mem   box_loss   cls_loss   dfl_loss  Instances       Size\n"
     ]
    },
    {
     "name": "stderr",
     "output_type": "stream",
     "text": [
      "     49/100         0G     0.3472      0.217      0.804       1060       1216: 100%|██████████| 20/20 [08:08<00:00, 24.41s/it]\n",
      "                 Class     Images  Instances      Box(P          R      mAP50  mAP50-95): 100%|██████████| 3/3 [00:46<00:00, 15.63s/it]"
     ]
    },
    {
     "name": "stdout",
     "output_type": "stream",
     "text": [
      "                   all         80       3545      0.999      0.999      0.995      0.968\n"
     ]
    },
    {
     "name": "stderr",
     "output_type": "stream",
     "text": [
      "\n"
     ]
    },
    {
     "name": "stdout",
     "output_type": "stream",
     "text": [
      "\n",
      "      Epoch    GPU_mem   box_loss   cls_loss   dfl_loss  Instances       Size\n"
     ]
    },
    {
     "name": "stderr",
     "output_type": "stream",
     "text": [
      "     50/100         0G     0.3463     0.2156     0.8046        914       1216: 100%|██████████| 20/20 [08:04<00:00, 24.22s/it]\n",
      "                 Class     Images  Instances      Box(P          R      mAP50  mAP50-95): 100%|██████████| 3/3 [00:46<00:00, 15.63s/it]"
     ]
    },
    {
     "name": "stdout",
     "output_type": "stream",
     "text": [
      "                   all         80       3545      0.999      0.998      0.995      0.964\n"
     ]
    },
    {
     "name": "stderr",
     "output_type": "stream",
     "text": [
      "\n"
     ]
    },
    {
     "name": "stdout",
     "output_type": "stream",
     "text": [
      "\n",
      "      Epoch    GPU_mem   box_loss   cls_loss   dfl_loss  Instances       Size\n"
     ]
    },
    {
     "name": "stderr",
     "output_type": "stream",
     "text": [
      "     51/100         0G     0.3456      0.216     0.8059        975       1216: 100%|██████████| 20/20 [08:07<00:00, 24.39s/it]\n",
      "                 Class     Images  Instances      Box(P          R      mAP50  mAP50-95): 100%|██████████| 3/3 [00:48<00:00, 16.06s/it]"
     ]
    },
    {
     "name": "stdout",
     "output_type": "stream",
     "text": [
      "                   all         80       3545      0.999      0.995      0.995      0.963\n"
     ]
    },
    {
     "name": "stderr",
     "output_type": "stream",
     "text": [
      "\n"
     ]
    },
    {
     "name": "stdout",
     "output_type": "stream",
     "text": [
      "\n",
      "      Epoch    GPU_mem   box_loss   cls_loss   dfl_loss  Instances       Size\n"
     ]
    },
    {
     "name": "stderr",
     "output_type": "stream",
     "text": [
      "     52/100         0G     0.3457     0.2165     0.8044        836       1216: 100%|██████████| 20/20 [08:33<00:00, 25.67s/it]\n",
      "                 Class     Images  Instances      Box(P          R      mAP50  mAP50-95): 100%|██████████| 3/3 [00:49<00:00, 16.60s/it]"
     ]
    },
    {
     "name": "stdout",
     "output_type": "stream",
     "text": [
      "                   all         80       3545      0.999      0.999      0.995      0.965\n"
     ]
    },
    {
     "name": "stderr",
     "output_type": "stream",
     "text": [
      "\n"
     ]
    },
    {
     "name": "stdout",
     "output_type": "stream",
     "text": [
      "\n",
      "      Epoch    GPU_mem   box_loss   cls_loss   dfl_loss  Instances       Size\n"
     ]
    },
    {
     "name": "stderr",
     "output_type": "stream",
     "text": [
      "     53/100         0G     0.3422     0.2096     0.8036        979       1216: 100%|██████████| 20/20 [08:44<00:00, 26.21s/it]\n",
      "                 Class     Images  Instances      Box(P          R      mAP50  mAP50-95): 100%|██████████| 3/3 [00:49<00:00, 16.47s/it]"
     ]
    },
    {
     "name": "stdout",
     "output_type": "stream",
     "text": [
      "                   all         80       3545          1      0.999      0.995      0.965\n"
     ]
    },
    {
     "name": "stderr",
     "output_type": "stream",
     "text": [
      "\n"
     ]
    },
    {
     "name": "stdout",
     "output_type": "stream",
     "text": [
      "\n",
      "      Epoch    GPU_mem   box_loss   cls_loss   dfl_loss  Instances       Size\n"
     ]
    },
    {
     "name": "stderr",
     "output_type": "stream",
     "text": [
      "     54/100         0G     0.3377     0.2089     0.8035        963       1216: 100%|██████████| 20/20 [08:31<00:00, 25.59s/it]\n",
      "                 Class     Images  Instances      Box(P          R      mAP50  mAP50-95): 100%|██████████| 3/3 [00:46<00:00, 15.62s/it]"
     ]
    },
    {
     "name": "stdout",
     "output_type": "stream",
     "text": [
      "                   all         80       3545          1      0.997      0.995      0.969\n"
     ]
    },
    {
     "name": "stderr",
     "output_type": "stream",
     "text": [
      "\n"
     ]
    },
    {
     "name": "stdout",
     "output_type": "stream",
     "text": [
      "\n",
      "      Epoch    GPU_mem   box_loss   cls_loss   dfl_loss  Instances       Size\n"
     ]
    },
    {
     "name": "stderr",
     "output_type": "stream",
     "text": [
      "     55/100         0G     0.3375     0.2081     0.8052        749       1216: 100%|██████████| 20/20 [08:02<00:00, 24.13s/it]\n",
      "                 Class     Images  Instances      Box(P          R      mAP50  mAP50-95): 100%|██████████| 3/3 [00:47<00:00, 15.70s/it]"
     ]
    },
    {
     "name": "stdout",
     "output_type": "stream",
     "text": [
      "                   all         80       3545      0.999      0.997      0.995      0.968\n"
     ]
    },
    {
     "name": "stderr",
     "output_type": "stream",
     "text": [
      "\n"
     ]
    },
    {
     "name": "stdout",
     "output_type": "stream",
     "text": [
      "\n",
      "      Epoch    GPU_mem   box_loss   cls_loss   dfl_loss  Instances       Size\n"
     ]
    },
    {
     "name": "stderr",
     "output_type": "stream",
     "text": [
      "     56/100         0G     0.3437     0.2134     0.8044        953       1216: 100%|██████████| 20/20 [08:09<00:00, 24.45s/it]\n",
      "                 Class     Images  Instances      Box(P          R      mAP50  mAP50-95): 100%|██████████| 3/3 [00:46<00:00, 15.54s/it]"
     ]
    },
    {
     "name": "stdout",
     "output_type": "stream",
     "text": [
      "                   all         80       3545          1      0.999      0.995      0.969\n"
     ]
    },
    {
     "name": "stderr",
     "output_type": "stream",
     "text": [
      "\n"
     ]
    },
    {
     "name": "stdout",
     "output_type": "stream",
     "text": [
      "\n",
      "      Epoch    GPU_mem   box_loss   cls_loss   dfl_loss  Instances       Size\n"
     ]
    },
    {
     "name": "stderr",
     "output_type": "stream",
     "text": [
      "     57/100         0G     0.3387     0.2111     0.8037        770       1216: 100%|██████████| 20/20 [08:09<00:00, 24.46s/it]\n",
      "                 Class     Images  Instances      Box(P          R      mAP50  mAP50-95): 100%|██████████| 3/3 [00:50<00:00, 16.90s/it]"
     ]
    },
    {
     "name": "stdout",
     "output_type": "stream",
     "text": [
      "                   all         80       3545          1          1      0.995      0.967\n"
     ]
    },
    {
     "name": "stderr",
     "output_type": "stream",
     "text": [
      "\n"
     ]
    },
    {
     "name": "stdout",
     "output_type": "stream",
     "text": [
      "\n",
      "      Epoch    GPU_mem   box_loss   cls_loss   dfl_loss  Instances       Size\n"
     ]
    },
    {
     "name": "stderr",
     "output_type": "stream",
     "text": [
      "     58/100         0G     0.3399     0.2117     0.8027        762       1216: 100%|██████████| 20/20 [08:20<00:00, 25.04s/it]\n",
      "                 Class     Images  Instances      Box(P          R      mAP50  mAP50-95): 100%|██████████| 3/3 [00:48<00:00, 16.29s/it]"
     ]
    },
    {
     "name": "stdout",
     "output_type": "stream",
     "text": [
      "                   all         80       3545          1      0.998      0.995      0.964\n"
     ]
    },
    {
     "name": "stderr",
     "output_type": "stream",
     "text": [
      "\n"
     ]
    },
    {
     "name": "stdout",
     "output_type": "stream",
     "text": [
      "\n",
      "      Epoch    GPU_mem   box_loss   cls_loss   dfl_loss  Instances       Size\n"
     ]
    },
    {
     "name": "stderr",
     "output_type": "stream",
     "text": [
      "     59/100         0G      0.341     0.2122     0.8031        972       1216: 100%|██████████| 20/20 [08:15<00:00, 24.77s/it]\n",
      "                 Class     Images  Instances      Box(P          R      mAP50  mAP50-95): 100%|██████████| 3/3 [00:48<00:00, 16.09s/it]"
     ]
    },
    {
     "name": "stdout",
     "output_type": "stream",
     "text": [
      "                   all         80       3545      0.998      0.999      0.995      0.965\n"
     ]
    },
    {
     "name": "stderr",
     "output_type": "stream",
     "text": [
      "\n"
     ]
    },
    {
     "name": "stdout",
     "output_type": "stream",
     "text": [
      "\n",
      "      Epoch    GPU_mem   box_loss   cls_loss   dfl_loss  Instances       Size\n"
     ]
    },
    {
     "name": "stderr",
     "output_type": "stream",
     "text": [
      "     60/100         0G     0.3426     0.2137     0.8044        700       1216: 100%|██████████| 20/20 [09:05<00:00, 27.30s/it]\n",
      "                 Class     Images  Instances      Box(P          R      mAP50  mAP50-95): 100%|██████████| 3/3 [00:59<00:00, 19.69s/it]"
     ]
    },
    {
     "name": "stdout",
     "output_type": "stream",
     "text": [
      "                   all         80       3545      0.999      0.998      0.995      0.966\n"
     ]
    },
    {
     "name": "stderr",
     "output_type": "stream",
     "text": [
      "\n"
     ]
    },
    {
     "name": "stdout",
     "output_type": "stream",
     "text": [
      "\n",
      "      Epoch    GPU_mem   box_loss   cls_loss   dfl_loss  Instances       Size\n"
     ]
    },
    {
     "name": "stderr",
     "output_type": "stream",
     "text": [
      "     61/100         0G     0.3299     0.2082     0.8021        835       1216: 100%|██████████| 20/20 [14:25<00:00, 43.26s/it]\n",
      "                 Class     Images  Instances      Box(P          R      mAP50  mAP50-95): 100%|██████████| 3/3 [01:19<00:00, 26.48s/it]"
     ]
    },
    {
     "name": "stdout",
     "output_type": "stream",
     "text": [
      "                   all         80       3545          1      0.999      0.995      0.967\n"
     ]
    },
    {
     "name": "stderr",
     "output_type": "stream",
     "text": [
      "\n"
     ]
    },
    {
     "name": "stdout",
     "output_type": "stream",
     "text": [
      "\n",
      "      Epoch    GPU_mem   box_loss   cls_loss   dfl_loss  Instances       Size\n"
     ]
    },
    {
     "name": "stderr",
     "output_type": "stream",
     "text": [
      "  0%|          | 0/20 [00:22<?, ?it/s]\n"
     ]
    },
    {
     "ename": "KeyboardInterrupt",
     "evalue": "",
     "output_type": "error",
     "traceback": [
      "\u001b[1;31m---------------------------------------------------------------------------\u001b[0m",
      "\u001b[1;31mKeyboardInterrupt\u001b[0m                         Traceback (most recent call last)",
      "Cell \u001b[1;32mIn[5], line 26\u001b[0m\n\u001b[0;32m     23\u001b[0m     \u001b[38;5;28mprint\u001b[39m(name, param\u001b[38;5;241m.\u001b[39mrequires_grad)\n\u001b[0;32m     25\u001b[0m \u001b[38;5;66;03m# Train the model\u001b[39;00m\n\u001b[1;32m---> 26\u001b[0m results \u001b[38;5;241m=\u001b[39m \u001b[43mmodel\u001b[49m\u001b[38;5;241;43m.\u001b[39;49m\u001b[43mtrain\u001b[49m\u001b[43m(\u001b[49m\n\u001b[0;32m     27\u001b[0m \u001b[43m    \u001b[49m\u001b[43mdata\u001b[49m\u001b[38;5;241;43m=\u001b[39;49m\u001b[38;5;124;43m'\u001b[39;49m\u001b[38;5;124;43mC:/Users/NajibS/OneDrive - Process Integration Limited/DigitalBrain/PFD-ComputerVision/process_flow_diagrams_detection_v4/train/data.yaml\u001b[39;49m\u001b[38;5;124;43m'\u001b[39;49m\u001b[43m,\u001b[49m\n\u001b[0;32m     28\u001b[0m \u001b[43m    \u001b[49m\u001b[43mimgsz\u001b[49m\u001b[38;5;241;43m=\u001b[39;49m\u001b[38;5;241;43m1200\u001b[39;49m\u001b[43m,\u001b[49m\n\u001b[0;32m     29\u001b[0m \u001b[43m    \u001b[49m\u001b[43mpatience\u001b[49m\u001b[38;5;241;43m=\u001b[39;49m\u001b[38;5;241;43m20\u001b[39;49m\u001b[43m,\u001b[49m\n\u001b[0;32m     30\u001b[0m \u001b[43m    \u001b[49m\u001b[43mepochs\u001b[49m\u001b[38;5;241;43m=\u001b[39;49m\u001b[38;5;241;43m100\u001b[39;49m\u001b[43m,\u001b[49m\n\u001b[0;32m     31\u001b[0m \u001b[43m    \u001b[49m\u001b[43mbatch\u001b[49m\u001b[38;5;241;43m=\u001b[39;49m\u001b[38;5;241;43m16\u001b[39;49m\u001b[43m,\u001b[49m\n\u001b[0;32m     32\u001b[0m \u001b[43m    \u001b[49m\u001b[43mwarmup_epochs\u001b[49m\u001b[38;5;241;43m=\u001b[39;49m\u001b[38;5;241;43m2\u001b[39;49m\u001b[43m,\u001b[49m\n\u001b[0;32m     33\u001b[0m \u001b[43m    \u001b[49m\u001b[43moptimizer\u001b[49m\u001b[38;5;241;43m=\u001b[39;49m\u001b[38;5;124;43m'\u001b[39;49m\u001b[38;5;124;43mAdamW\u001b[39;49m\u001b[38;5;124;43m'\u001b[39;49m\u001b[43m,\u001b[49m\n\u001b[0;32m     34\u001b[0m \u001b[43m    \u001b[49m\u001b[38;5;66;43;03m# lr=0.01,  # Uncomment and adjust if needed\u001b[39;49;00m\n\u001b[0;32m     35\u001b[0m \u001b[43m    \u001b[49m\u001b[43msave_period\u001b[49m\u001b[38;5;241;43m=\u001b[39;49m\u001b[38;5;241;43m2\u001b[39;49m\u001b[43m,\u001b[49m\n\u001b[0;32m     36\u001b[0m \u001b[43m    \u001b[49m\u001b[43mconf\u001b[49m\u001b[38;5;241;43m=\u001b[39;49m\u001b[38;5;241;43m0.15\u001b[39;49m\u001b[43m,\u001b[49m\n\u001b[0;32m     37\u001b[0m \u001b[43m    \u001b[49m\u001b[43mweight_decay\u001b[49m\u001b[38;5;241;43m=\u001b[39;49m\u001b[38;5;241;43m0.005\u001b[39;49m\u001b[43m,\u001b[49m\n\u001b[0;32m     38\u001b[0m \u001b[43m    \u001b[49m\u001b[43mdropout\u001b[49m\u001b[38;5;241;43m=\u001b[39;49m\u001b[38;5;241;43m0.1\u001b[39;49m\u001b[43m,\u001b[49m\n\u001b[0;32m     39\u001b[0m \u001b[43m    \u001b[49m\u001b[43miou\u001b[49m\u001b[38;5;241;43m=\u001b[39;49m\u001b[38;5;241;43m0.2\u001b[39;49m\u001b[43m,\u001b[49m\n\u001b[0;32m     40\u001b[0m \u001b[43m    \u001b[49m\u001b[43mname\u001b[49m\u001b[38;5;241;43m=\u001b[39;49m\u001b[38;5;124;43m'\u001b[39;49m\u001b[38;5;124;43myolo_pil\u001b[39;49m\u001b[38;5;124;43m'\u001b[39;49m\n\u001b[0;32m     41\u001b[0m \u001b[43m)\u001b[49m\n",
      "File \u001b[1;32m~\\AppData\\Roaming\\Python\\Python311\\site-packages\\ultralytics\\engine\\model.py:673\u001b[0m, in \u001b[0;36mModel.train\u001b[1;34m(self, trainer, **kwargs)\u001b[0m\n\u001b[0;32m    670\u001b[0m             \u001b[38;5;28;01mpass\u001b[39;00m\n\u001b[0;32m    672\u001b[0m \u001b[38;5;28mself\u001b[39m\u001b[38;5;241m.\u001b[39mtrainer\u001b[38;5;241m.\u001b[39mhub_session \u001b[38;5;241m=\u001b[39m \u001b[38;5;28mself\u001b[39m\u001b[38;5;241m.\u001b[39msession  \u001b[38;5;66;03m# attach optional HUB session\u001b[39;00m\n\u001b[1;32m--> 673\u001b[0m \u001b[38;5;28;43mself\u001b[39;49m\u001b[38;5;241;43m.\u001b[39;49m\u001b[43mtrainer\u001b[49m\u001b[38;5;241;43m.\u001b[39;49m\u001b[43mtrain\u001b[49m\u001b[43m(\u001b[49m\u001b[43m)\u001b[49m\n\u001b[0;32m    674\u001b[0m \u001b[38;5;66;03m# Update model and cfg after training\u001b[39;00m\n\u001b[0;32m    675\u001b[0m \u001b[38;5;28;01mif\u001b[39;00m RANK \u001b[38;5;129;01min\u001b[39;00m {\u001b[38;5;241m-\u001b[39m\u001b[38;5;241m1\u001b[39m, \u001b[38;5;241m0\u001b[39m}:\n",
      "File \u001b[1;32m~\\AppData\\Roaming\\Python\\Python311\\site-packages\\ultralytics\\engine\\trainer.py:199\u001b[0m, in \u001b[0;36mBaseTrainer.train\u001b[1;34m(self)\u001b[0m\n\u001b[0;32m    196\u001b[0m         ddp_cleanup(\u001b[38;5;28mself\u001b[39m, \u001b[38;5;28mstr\u001b[39m(file))\n\u001b[0;32m    198\u001b[0m \u001b[38;5;28;01melse\u001b[39;00m:\n\u001b[1;32m--> 199\u001b[0m     \u001b[38;5;28;43mself\u001b[39;49m\u001b[38;5;241;43m.\u001b[39;49m\u001b[43m_do_train\u001b[49m\u001b[43m(\u001b[49m\u001b[43mworld_size\u001b[49m\u001b[43m)\u001b[49m\n",
      "File \u001b[1;32m~\\AppData\\Roaming\\Python\\Python311\\site-packages\\ultralytics\\engine\\trainer.py:371\u001b[0m, in \u001b[0;36mBaseTrainer._do_train\u001b[1;34m(self, world_size)\u001b[0m\n\u001b[0;32m    369\u001b[0m \u001b[38;5;28;01mwith\u001b[39;00m torch\u001b[38;5;241m.\u001b[39mcuda\u001b[38;5;241m.\u001b[39mamp\u001b[38;5;241m.\u001b[39mautocast(\u001b[38;5;28mself\u001b[39m\u001b[38;5;241m.\u001b[39mamp):\n\u001b[0;32m    370\u001b[0m     batch \u001b[38;5;241m=\u001b[39m \u001b[38;5;28mself\u001b[39m\u001b[38;5;241m.\u001b[39mpreprocess_batch(batch)\n\u001b[1;32m--> 371\u001b[0m     \u001b[38;5;28mself\u001b[39m\u001b[38;5;241m.\u001b[39mloss, \u001b[38;5;28mself\u001b[39m\u001b[38;5;241m.\u001b[39mloss_items \u001b[38;5;241m=\u001b[39m \u001b[38;5;28;43mself\u001b[39;49m\u001b[38;5;241;43m.\u001b[39;49m\u001b[43mmodel\u001b[49m\u001b[43m(\u001b[49m\u001b[43mbatch\u001b[49m\u001b[43m)\u001b[49m\n\u001b[0;32m    372\u001b[0m     \u001b[38;5;28;01mif\u001b[39;00m RANK \u001b[38;5;241m!=\u001b[39m \u001b[38;5;241m-\u001b[39m\u001b[38;5;241m1\u001b[39m:\n\u001b[0;32m    373\u001b[0m         \u001b[38;5;28mself\u001b[39m\u001b[38;5;241m.\u001b[39mloss \u001b[38;5;241m*\u001b[39m\u001b[38;5;241m=\u001b[39m world_size\n",
      "File \u001b[1;32m~\\AppData\\Roaming\\Python\\Python311\\site-packages\\torch\\nn\\modules\\module.py:1511\u001b[0m, in \u001b[0;36mModule._wrapped_call_impl\u001b[1;34m(self, *args, **kwargs)\u001b[0m\n\u001b[0;32m   1509\u001b[0m     \u001b[38;5;28;01mreturn\u001b[39;00m \u001b[38;5;28mself\u001b[39m\u001b[38;5;241m.\u001b[39m_compiled_call_impl(\u001b[38;5;241m*\u001b[39margs, \u001b[38;5;241m*\u001b[39m\u001b[38;5;241m*\u001b[39mkwargs)  \u001b[38;5;66;03m# type: ignore[misc]\u001b[39;00m\n\u001b[0;32m   1510\u001b[0m \u001b[38;5;28;01melse\u001b[39;00m:\n\u001b[1;32m-> 1511\u001b[0m     \u001b[38;5;28;01mreturn\u001b[39;00m \u001b[38;5;28;43mself\u001b[39;49m\u001b[38;5;241;43m.\u001b[39;49m\u001b[43m_call_impl\u001b[49m\u001b[43m(\u001b[49m\u001b[38;5;241;43m*\u001b[39;49m\u001b[43margs\u001b[49m\u001b[43m,\u001b[49m\u001b[43m \u001b[49m\u001b[38;5;241;43m*\u001b[39;49m\u001b[38;5;241;43m*\u001b[39;49m\u001b[43mkwargs\u001b[49m\u001b[43m)\u001b[49m\n",
      "File \u001b[1;32m~\\AppData\\Roaming\\Python\\Python311\\site-packages\\torch\\nn\\modules\\module.py:1520\u001b[0m, in \u001b[0;36mModule._call_impl\u001b[1;34m(self, *args, **kwargs)\u001b[0m\n\u001b[0;32m   1515\u001b[0m \u001b[38;5;66;03m# If we don't have any hooks, we want to skip the rest of the logic in\u001b[39;00m\n\u001b[0;32m   1516\u001b[0m \u001b[38;5;66;03m# this function, and just call forward.\u001b[39;00m\n\u001b[0;32m   1517\u001b[0m \u001b[38;5;28;01mif\u001b[39;00m \u001b[38;5;129;01mnot\u001b[39;00m (\u001b[38;5;28mself\u001b[39m\u001b[38;5;241m.\u001b[39m_backward_hooks \u001b[38;5;129;01mor\u001b[39;00m \u001b[38;5;28mself\u001b[39m\u001b[38;5;241m.\u001b[39m_backward_pre_hooks \u001b[38;5;129;01mor\u001b[39;00m \u001b[38;5;28mself\u001b[39m\u001b[38;5;241m.\u001b[39m_forward_hooks \u001b[38;5;129;01mor\u001b[39;00m \u001b[38;5;28mself\u001b[39m\u001b[38;5;241m.\u001b[39m_forward_pre_hooks\n\u001b[0;32m   1518\u001b[0m         \u001b[38;5;129;01mor\u001b[39;00m _global_backward_pre_hooks \u001b[38;5;129;01mor\u001b[39;00m _global_backward_hooks\n\u001b[0;32m   1519\u001b[0m         \u001b[38;5;129;01mor\u001b[39;00m _global_forward_hooks \u001b[38;5;129;01mor\u001b[39;00m _global_forward_pre_hooks):\n\u001b[1;32m-> 1520\u001b[0m     \u001b[38;5;28;01mreturn\u001b[39;00m \u001b[43mforward_call\u001b[49m\u001b[43m(\u001b[49m\u001b[38;5;241;43m*\u001b[39;49m\u001b[43margs\u001b[49m\u001b[43m,\u001b[49m\u001b[43m \u001b[49m\u001b[38;5;241;43m*\u001b[39;49m\u001b[38;5;241;43m*\u001b[39;49m\u001b[43mkwargs\u001b[49m\u001b[43m)\u001b[49m\n\u001b[0;32m   1522\u001b[0m \u001b[38;5;28;01mtry\u001b[39;00m:\n\u001b[0;32m   1523\u001b[0m     result \u001b[38;5;241m=\u001b[39m \u001b[38;5;28;01mNone\u001b[39;00m\n",
      "File \u001b[1;32m~\\AppData\\Roaming\\Python\\Python311\\site-packages\\ultralytics\\nn\\tasks.py:88\u001b[0m, in \u001b[0;36mBaseModel.forward\u001b[1;34m(self, x, *args, **kwargs)\u001b[0m\n\u001b[0;32m     78\u001b[0m \u001b[38;5;250m\u001b[39m\u001b[38;5;124;03m\"\"\"\u001b[39;00m\n\u001b[0;32m     79\u001b[0m \u001b[38;5;124;03mForward pass of the model on a single scale. Wrapper for `_forward_once` method.\u001b[39;00m\n\u001b[0;32m     80\u001b[0m \n\u001b[1;32m   (...)\u001b[0m\n\u001b[0;32m     85\u001b[0m \u001b[38;5;124;03m    (torch.Tensor): The output of the network.\u001b[39;00m\n\u001b[0;32m     86\u001b[0m \u001b[38;5;124;03m\"\"\"\u001b[39;00m\n\u001b[0;32m     87\u001b[0m \u001b[38;5;28;01mif\u001b[39;00m \u001b[38;5;28misinstance\u001b[39m(x, \u001b[38;5;28mdict\u001b[39m):  \u001b[38;5;66;03m# for cases of training and validating while training.\u001b[39;00m\n\u001b[1;32m---> 88\u001b[0m     \u001b[38;5;28;01mreturn\u001b[39;00m \u001b[38;5;28;43mself\u001b[39;49m\u001b[38;5;241;43m.\u001b[39;49m\u001b[43mloss\u001b[49m\u001b[43m(\u001b[49m\u001b[43mx\u001b[49m\u001b[43m,\u001b[49m\u001b[43m \u001b[49m\u001b[38;5;241;43m*\u001b[39;49m\u001b[43margs\u001b[49m\u001b[43m,\u001b[49m\u001b[43m \u001b[49m\u001b[38;5;241;43m*\u001b[39;49m\u001b[38;5;241;43m*\u001b[39;49m\u001b[43mkwargs\u001b[49m\u001b[43m)\u001b[49m\n\u001b[0;32m     89\u001b[0m \u001b[38;5;28;01mreturn\u001b[39;00m \u001b[38;5;28mself\u001b[39m\u001b[38;5;241m.\u001b[39mpredict(x, \u001b[38;5;241m*\u001b[39margs, \u001b[38;5;241m*\u001b[39m\u001b[38;5;241m*\u001b[39mkwargs)\n",
      "File \u001b[1;32m~\\AppData\\Roaming\\Python\\Python311\\site-packages\\ultralytics\\nn\\tasks.py:266\u001b[0m, in \u001b[0;36mBaseModel.loss\u001b[1;34m(self, batch, preds)\u001b[0m\n\u001b[0;32m    263\u001b[0m \u001b[38;5;28;01mif\u001b[39;00m \u001b[38;5;129;01mnot\u001b[39;00m \u001b[38;5;28mhasattr\u001b[39m(\u001b[38;5;28mself\u001b[39m, \u001b[38;5;124m\"\u001b[39m\u001b[38;5;124mcriterion\u001b[39m\u001b[38;5;124m\"\u001b[39m):\n\u001b[0;32m    264\u001b[0m     \u001b[38;5;28mself\u001b[39m\u001b[38;5;241m.\u001b[39mcriterion \u001b[38;5;241m=\u001b[39m \u001b[38;5;28mself\u001b[39m\u001b[38;5;241m.\u001b[39minit_criterion()\n\u001b[1;32m--> 266\u001b[0m preds \u001b[38;5;241m=\u001b[39m \u001b[38;5;28;43mself\u001b[39;49m\u001b[38;5;241;43m.\u001b[39;49m\u001b[43mforward\u001b[49m\u001b[43m(\u001b[49m\u001b[43mbatch\u001b[49m\u001b[43m[\u001b[49m\u001b[38;5;124;43m\"\u001b[39;49m\u001b[38;5;124;43mimg\u001b[39;49m\u001b[38;5;124;43m\"\u001b[39;49m\u001b[43m]\u001b[49m\u001b[43m)\u001b[49m \u001b[38;5;28;01mif\u001b[39;00m preds \u001b[38;5;129;01mis\u001b[39;00m \u001b[38;5;28;01mNone\u001b[39;00m \u001b[38;5;28;01melse\u001b[39;00m preds\n\u001b[0;32m    267\u001b[0m \u001b[38;5;28;01mreturn\u001b[39;00m \u001b[38;5;28mself\u001b[39m\u001b[38;5;241m.\u001b[39mcriterion(preds, batch)\n",
      "File \u001b[1;32m~\\AppData\\Roaming\\Python\\Python311\\site-packages\\ultralytics\\nn\\tasks.py:89\u001b[0m, in \u001b[0;36mBaseModel.forward\u001b[1;34m(self, x, *args, **kwargs)\u001b[0m\n\u001b[0;32m     87\u001b[0m \u001b[38;5;28;01mif\u001b[39;00m \u001b[38;5;28misinstance\u001b[39m(x, \u001b[38;5;28mdict\u001b[39m):  \u001b[38;5;66;03m# for cases of training and validating while training.\u001b[39;00m\n\u001b[0;32m     88\u001b[0m     \u001b[38;5;28;01mreturn\u001b[39;00m \u001b[38;5;28mself\u001b[39m\u001b[38;5;241m.\u001b[39mloss(x, \u001b[38;5;241m*\u001b[39margs, \u001b[38;5;241m*\u001b[39m\u001b[38;5;241m*\u001b[39mkwargs)\n\u001b[1;32m---> 89\u001b[0m \u001b[38;5;28;01mreturn\u001b[39;00m \u001b[38;5;28;43mself\u001b[39;49m\u001b[38;5;241;43m.\u001b[39;49m\u001b[43mpredict\u001b[49m\u001b[43m(\u001b[49m\u001b[43mx\u001b[49m\u001b[43m,\u001b[49m\u001b[43m \u001b[49m\u001b[38;5;241;43m*\u001b[39;49m\u001b[43margs\u001b[49m\u001b[43m,\u001b[49m\u001b[43m \u001b[49m\u001b[38;5;241;43m*\u001b[39;49m\u001b[38;5;241;43m*\u001b[39;49m\u001b[43mkwargs\u001b[49m\u001b[43m)\u001b[49m\n",
      "File \u001b[1;32m~\\AppData\\Roaming\\Python\\Python311\\site-packages\\ultralytics\\nn\\tasks.py:107\u001b[0m, in \u001b[0;36mBaseModel.predict\u001b[1;34m(self, x, profile, visualize, augment, embed)\u001b[0m\n\u001b[0;32m    105\u001b[0m \u001b[38;5;28;01mif\u001b[39;00m augment:\n\u001b[0;32m    106\u001b[0m     \u001b[38;5;28;01mreturn\u001b[39;00m \u001b[38;5;28mself\u001b[39m\u001b[38;5;241m.\u001b[39m_predict_augment(x)\n\u001b[1;32m--> 107\u001b[0m \u001b[38;5;28;01mreturn\u001b[39;00m \u001b[38;5;28;43mself\u001b[39;49m\u001b[38;5;241;43m.\u001b[39;49m\u001b[43m_predict_once\u001b[49m\u001b[43m(\u001b[49m\u001b[43mx\u001b[49m\u001b[43m,\u001b[49m\u001b[43m \u001b[49m\u001b[43mprofile\u001b[49m\u001b[43m,\u001b[49m\u001b[43m \u001b[49m\u001b[43mvisualize\u001b[49m\u001b[43m,\u001b[49m\u001b[43m \u001b[49m\u001b[43membed\u001b[49m\u001b[43m)\u001b[49m\n",
      "File \u001b[1;32m~\\AppData\\Roaming\\Python\\Python311\\site-packages\\ultralytics\\nn\\tasks.py:128\u001b[0m, in \u001b[0;36mBaseModel._predict_once\u001b[1;34m(self, x, profile, visualize, embed)\u001b[0m\n\u001b[0;32m    126\u001b[0m \u001b[38;5;28;01mif\u001b[39;00m profile:\n\u001b[0;32m    127\u001b[0m     \u001b[38;5;28mself\u001b[39m\u001b[38;5;241m.\u001b[39m_profile_one_layer(m, x, dt)\n\u001b[1;32m--> 128\u001b[0m x \u001b[38;5;241m=\u001b[39m \u001b[43mm\u001b[49m\u001b[43m(\u001b[49m\u001b[43mx\u001b[49m\u001b[43m)\u001b[49m  \u001b[38;5;66;03m# run\u001b[39;00m\n\u001b[0;32m    129\u001b[0m y\u001b[38;5;241m.\u001b[39mappend(x \u001b[38;5;28;01mif\u001b[39;00m m\u001b[38;5;241m.\u001b[39mi \u001b[38;5;129;01min\u001b[39;00m \u001b[38;5;28mself\u001b[39m\u001b[38;5;241m.\u001b[39msave \u001b[38;5;28;01melse\u001b[39;00m \u001b[38;5;28;01mNone\u001b[39;00m)  \u001b[38;5;66;03m# save output\u001b[39;00m\n\u001b[0;32m    130\u001b[0m \u001b[38;5;28;01mif\u001b[39;00m visualize:\n",
      "File \u001b[1;32m~\\AppData\\Roaming\\Python\\Python311\\site-packages\\torch\\nn\\modules\\module.py:1511\u001b[0m, in \u001b[0;36mModule._wrapped_call_impl\u001b[1;34m(self, *args, **kwargs)\u001b[0m\n\u001b[0;32m   1509\u001b[0m     \u001b[38;5;28;01mreturn\u001b[39;00m \u001b[38;5;28mself\u001b[39m\u001b[38;5;241m.\u001b[39m_compiled_call_impl(\u001b[38;5;241m*\u001b[39margs, \u001b[38;5;241m*\u001b[39m\u001b[38;5;241m*\u001b[39mkwargs)  \u001b[38;5;66;03m# type: ignore[misc]\u001b[39;00m\n\u001b[0;32m   1510\u001b[0m \u001b[38;5;28;01melse\u001b[39;00m:\n\u001b[1;32m-> 1511\u001b[0m     \u001b[38;5;28;01mreturn\u001b[39;00m \u001b[38;5;28;43mself\u001b[39;49m\u001b[38;5;241;43m.\u001b[39;49m\u001b[43m_call_impl\u001b[49m\u001b[43m(\u001b[49m\u001b[38;5;241;43m*\u001b[39;49m\u001b[43margs\u001b[49m\u001b[43m,\u001b[49m\u001b[43m \u001b[49m\u001b[38;5;241;43m*\u001b[39;49m\u001b[38;5;241;43m*\u001b[39;49m\u001b[43mkwargs\u001b[49m\u001b[43m)\u001b[49m\n",
      "File \u001b[1;32m~\\AppData\\Roaming\\Python\\Python311\\site-packages\\torch\\nn\\modules\\module.py:1520\u001b[0m, in \u001b[0;36mModule._call_impl\u001b[1;34m(self, *args, **kwargs)\u001b[0m\n\u001b[0;32m   1515\u001b[0m \u001b[38;5;66;03m# If we don't have any hooks, we want to skip the rest of the logic in\u001b[39;00m\n\u001b[0;32m   1516\u001b[0m \u001b[38;5;66;03m# this function, and just call forward.\u001b[39;00m\n\u001b[0;32m   1517\u001b[0m \u001b[38;5;28;01mif\u001b[39;00m \u001b[38;5;129;01mnot\u001b[39;00m (\u001b[38;5;28mself\u001b[39m\u001b[38;5;241m.\u001b[39m_backward_hooks \u001b[38;5;129;01mor\u001b[39;00m \u001b[38;5;28mself\u001b[39m\u001b[38;5;241m.\u001b[39m_backward_pre_hooks \u001b[38;5;129;01mor\u001b[39;00m \u001b[38;5;28mself\u001b[39m\u001b[38;5;241m.\u001b[39m_forward_hooks \u001b[38;5;129;01mor\u001b[39;00m \u001b[38;5;28mself\u001b[39m\u001b[38;5;241m.\u001b[39m_forward_pre_hooks\n\u001b[0;32m   1518\u001b[0m         \u001b[38;5;129;01mor\u001b[39;00m _global_backward_pre_hooks \u001b[38;5;129;01mor\u001b[39;00m _global_backward_hooks\n\u001b[0;32m   1519\u001b[0m         \u001b[38;5;129;01mor\u001b[39;00m _global_forward_hooks \u001b[38;5;129;01mor\u001b[39;00m _global_forward_pre_hooks):\n\u001b[1;32m-> 1520\u001b[0m     \u001b[38;5;28;01mreturn\u001b[39;00m \u001b[43mforward_call\u001b[49m\u001b[43m(\u001b[49m\u001b[38;5;241;43m*\u001b[39;49m\u001b[43margs\u001b[49m\u001b[43m,\u001b[49m\u001b[43m \u001b[49m\u001b[38;5;241;43m*\u001b[39;49m\u001b[38;5;241;43m*\u001b[39;49m\u001b[43mkwargs\u001b[49m\u001b[43m)\u001b[49m\n\u001b[0;32m   1522\u001b[0m \u001b[38;5;28;01mtry\u001b[39;00m:\n\u001b[0;32m   1523\u001b[0m     result \u001b[38;5;241m=\u001b[39m \u001b[38;5;28;01mNone\u001b[39;00m\n",
      "File \u001b[1;32m~\\AppData\\Roaming\\Python\\Python311\\site-packages\\ultralytics\\nn\\modules\\head.py:47\u001b[0m, in \u001b[0;36mDetect.forward\u001b[1;34m(self, x)\u001b[0m\n\u001b[0;32m     45\u001b[0m \u001b[38;5;250m\u001b[39m\u001b[38;5;124;03m\"\"\"Concatenates and returns predicted bounding boxes and class probabilities.\"\"\"\u001b[39;00m\n\u001b[0;32m     46\u001b[0m \u001b[38;5;28;01mfor\u001b[39;00m i \u001b[38;5;129;01min\u001b[39;00m \u001b[38;5;28mrange\u001b[39m(\u001b[38;5;28mself\u001b[39m\u001b[38;5;241m.\u001b[39mnl):\n\u001b[1;32m---> 47\u001b[0m     x[i] \u001b[38;5;241m=\u001b[39m torch\u001b[38;5;241m.\u001b[39mcat((\u001b[38;5;28mself\u001b[39m\u001b[38;5;241m.\u001b[39mcv2[i](x[i]), \u001b[38;5;28;43mself\u001b[39;49m\u001b[38;5;241;43m.\u001b[39;49m\u001b[43mcv3\u001b[49m\u001b[43m[\u001b[49m\u001b[43mi\u001b[49m\u001b[43m]\u001b[49m\u001b[43m(\u001b[49m\u001b[43mx\u001b[49m\u001b[43m[\u001b[49m\u001b[43mi\u001b[49m\u001b[43m]\u001b[49m\u001b[43m)\u001b[49m), \u001b[38;5;241m1\u001b[39m)\n\u001b[0;32m     48\u001b[0m \u001b[38;5;28;01mif\u001b[39;00m \u001b[38;5;28mself\u001b[39m\u001b[38;5;241m.\u001b[39mtraining:  \u001b[38;5;66;03m# Training path\u001b[39;00m\n\u001b[0;32m     49\u001b[0m     \u001b[38;5;28;01mreturn\u001b[39;00m x\n",
      "File \u001b[1;32m~\\AppData\\Roaming\\Python\\Python311\\site-packages\\torch\\nn\\modules\\module.py:1511\u001b[0m, in \u001b[0;36mModule._wrapped_call_impl\u001b[1;34m(self, *args, **kwargs)\u001b[0m\n\u001b[0;32m   1509\u001b[0m     \u001b[38;5;28;01mreturn\u001b[39;00m \u001b[38;5;28mself\u001b[39m\u001b[38;5;241m.\u001b[39m_compiled_call_impl(\u001b[38;5;241m*\u001b[39margs, \u001b[38;5;241m*\u001b[39m\u001b[38;5;241m*\u001b[39mkwargs)  \u001b[38;5;66;03m# type: ignore[misc]\u001b[39;00m\n\u001b[0;32m   1510\u001b[0m \u001b[38;5;28;01melse\u001b[39;00m:\n\u001b[1;32m-> 1511\u001b[0m     \u001b[38;5;28;01mreturn\u001b[39;00m \u001b[38;5;28;43mself\u001b[39;49m\u001b[38;5;241;43m.\u001b[39;49m\u001b[43m_call_impl\u001b[49m\u001b[43m(\u001b[49m\u001b[38;5;241;43m*\u001b[39;49m\u001b[43margs\u001b[49m\u001b[43m,\u001b[49m\u001b[43m \u001b[49m\u001b[38;5;241;43m*\u001b[39;49m\u001b[38;5;241;43m*\u001b[39;49m\u001b[43mkwargs\u001b[49m\u001b[43m)\u001b[49m\n",
      "File \u001b[1;32m~\\AppData\\Roaming\\Python\\Python311\\site-packages\\torch\\nn\\modules\\module.py:1520\u001b[0m, in \u001b[0;36mModule._call_impl\u001b[1;34m(self, *args, **kwargs)\u001b[0m\n\u001b[0;32m   1515\u001b[0m \u001b[38;5;66;03m# If we don't have any hooks, we want to skip the rest of the logic in\u001b[39;00m\n\u001b[0;32m   1516\u001b[0m \u001b[38;5;66;03m# this function, and just call forward.\u001b[39;00m\n\u001b[0;32m   1517\u001b[0m \u001b[38;5;28;01mif\u001b[39;00m \u001b[38;5;129;01mnot\u001b[39;00m (\u001b[38;5;28mself\u001b[39m\u001b[38;5;241m.\u001b[39m_backward_hooks \u001b[38;5;129;01mor\u001b[39;00m \u001b[38;5;28mself\u001b[39m\u001b[38;5;241m.\u001b[39m_backward_pre_hooks \u001b[38;5;129;01mor\u001b[39;00m \u001b[38;5;28mself\u001b[39m\u001b[38;5;241m.\u001b[39m_forward_hooks \u001b[38;5;129;01mor\u001b[39;00m \u001b[38;5;28mself\u001b[39m\u001b[38;5;241m.\u001b[39m_forward_pre_hooks\n\u001b[0;32m   1518\u001b[0m         \u001b[38;5;129;01mor\u001b[39;00m _global_backward_pre_hooks \u001b[38;5;129;01mor\u001b[39;00m _global_backward_hooks\n\u001b[0;32m   1519\u001b[0m         \u001b[38;5;129;01mor\u001b[39;00m _global_forward_hooks \u001b[38;5;129;01mor\u001b[39;00m _global_forward_pre_hooks):\n\u001b[1;32m-> 1520\u001b[0m     \u001b[38;5;28;01mreturn\u001b[39;00m \u001b[43mforward_call\u001b[49m\u001b[43m(\u001b[49m\u001b[38;5;241;43m*\u001b[39;49m\u001b[43margs\u001b[49m\u001b[43m,\u001b[49m\u001b[43m \u001b[49m\u001b[38;5;241;43m*\u001b[39;49m\u001b[38;5;241;43m*\u001b[39;49m\u001b[43mkwargs\u001b[49m\u001b[43m)\u001b[49m\n\u001b[0;32m   1522\u001b[0m \u001b[38;5;28;01mtry\u001b[39;00m:\n\u001b[0;32m   1523\u001b[0m     result \u001b[38;5;241m=\u001b[39m \u001b[38;5;28;01mNone\u001b[39;00m\n",
      "File \u001b[1;32m~\\AppData\\Roaming\\Python\\Python311\\site-packages\\torch\\nn\\modules\\container.py:217\u001b[0m, in \u001b[0;36mSequential.forward\u001b[1;34m(self, input)\u001b[0m\n\u001b[0;32m    215\u001b[0m \u001b[38;5;28;01mdef\u001b[39;00m \u001b[38;5;21mforward\u001b[39m(\u001b[38;5;28mself\u001b[39m, \u001b[38;5;28minput\u001b[39m):\n\u001b[0;32m    216\u001b[0m     \u001b[38;5;28;01mfor\u001b[39;00m module \u001b[38;5;129;01min\u001b[39;00m \u001b[38;5;28mself\u001b[39m:\n\u001b[1;32m--> 217\u001b[0m         \u001b[38;5;28minput\u001b[39m \u001b[38;5;241m=\u001b[39m \u001b[43mmodule\u001b[49m\u001b[43m(\u001b[49m\u001b[38;5;28;43minput\u001b[39;49m\u001b[43m)\u001b[49m\n\u001b[0;32m    218\u001b[0m     \u001b[38;5;28;01mreturn\u001b[39;00m \u001b[38;5;28minput\u001b[39m\n",
      "File \u001b[1;32m~\\AppData\\Roaming\\Python\\Python311\\site-packages\\torch\\nn\\modules\\module.py:1511\u001b[0m, in \u001b[0;36mModule._wrapped_call_impl\u001b[1;34m(self, *args, **kwargs)\u001b[0m\n\u001b[0;32m   1509\u001b[0m     \u001b[38;5;28;01mreturn\u001b[39;00m \u001b[38;5;28mself\u001b[39m\u001b[38;5;241m.\u001b[39m_compiled_call_impl(\u001b[38;5;241m*\u001b[39margs, \u001b[38;5;241m*\u001b[39m\u001b[38;5;241m*\u001b[39mkwargs)  \u001b[38;5;66;03m# type: ignore[misc]\u001b[39;00m\n\u001b[0;32m   1510\u001b[0m \u001b[38;5;28;01melse\u001b[39;00m:\n\u001b[1;32m-> 1511\u001b[0m     \u001b[38;5;28;01mreturn\u001b[39;00m \u001b[38;5;28;43mself\u001b[39;49m\u001b[38;5;241;43m.\u001b[39;49m\u001b[43m_call_impl\u001b[49m\u001b[43m(\u001b[49m\u001b[38;5;241;43m*\u001b[39;49m\u001b[43margs\u001b[49m\u001b[43m,\u001b[49m\u001b[43m \u001b[49m\u001b[38;5;241;43m*\u001b[39;49m\u001b[38;5;241;43m*\u001b[39;49m\u001b[43mkwargs\u001b[49m\u001b[43m)\u001b[49m\n",
      "File \u001b[1;32m~\\AppData\\Roaming\\Python\\Python311\\site-packages\\torch\\nn\\modules\\module.py:1520\u001b[0m, in \u001b[0;36mModule._call_impl\u001b[1;34m(self, *args, **kwargs)\u001b[0m\n\u001b[0;32m   1515\u001b[0m \u001b[38;5;66;03m# If we don't have any hooks, we want to skip the rest of the logic in\u001b[39;00m\n\u001b[0;32m   1516\u001b[0m \u001b[38;5;66;03m# this function, and just call forward.\u001b[39;00m\n\u001b[0;32m   1517\u001b[0m \u001b[38;5;28;01mif\u001b[39;00m \u001b[38;5;129;01mnot\u001b[39;00m (\u001b[38;5;28mself\u001b[39m\u001b[38;5;241m.\u001b[39m_backward_hooks \u001b[38;5;129;01mor\u001b[39;00m \u001b[38;5;28mself\u001b[39m\u001b[38;5;241m.\u001b[39m_backward_pre_hooks \u001b[38;5;129;01mor\u001b[39;00m \u001b[38;5;28mself\u001b[39m\u001b[38;5;241m.\u001b[39m_forward_hooks \u001b[38;5;129;01mor\u001b[39;00m \u001b[38;5;28mself\u001b[39m\u001b[38;5;241m.\u001b[39m_forward_pre_hooks\n\u001b[0;32m   1518\u001b[0m         \u001b[38;5;129;01mor\u001b[39;00m _global_backward_pre_hooks \u001b[38;5;129;01mor\u001b[39;00m _global_backward_hooks\n\u001b[0;32m   1519\u001b[0m         \u001b[38;5;129;01mor\u001b[39;00m _global_forward_hooks \u001b[38;5;129;01mor\u001b[39;00m _global_forward_pre_hooks):\n\u001b[1;32m-> 1520\u001b[0m     \u001b[38;5;28;01mreturn\u001b[39;00m \u001b[43mforward_call\u001b[49m\u001b[43m(\u001b[49m\u001b[38;5;241;43m*\u001b[39;49m\u001b[43margs\u001b[49m\u001b[43m,\u001b[49m\u001b[43m \u001b[49m\u001b[38;5;241;43m*\u001b[39;49m\u001b[38;5;241;43m*\u001b[39;49m\u001b[43mkwargs\u001b[49m\u001b[43m)\u001b[49m\n\u001b[0;32m   1522\u001b[0m \u001b[38;5;28;01mtry\u001b[39;00m:\n\u001b[0;32m   1523\u001b[0m     result \u001b[38;5;241m=\u001b[39m \u001b[38;5;28;01mNone\u001b[39;00m\n",
      "File \u001b[1;32m~\\AppData\\Roaming\\Python\\Python311\\site-packages\\ultralytics\\nn\\modules\\conv.py:50\u001b[0m, in \u001b[0;36mConv.forward\u001b[1;34m(self, x)\u001b[0m\n\u001b[0;32m     48\u001b[0m \u001b[38;5;28;01mdef\u001b[39;00m \u001b[38;5;21mforward\u001b[39m(\u001b[38;5;28mself\u001b[39m, x):\n\u001b[0;32m     49\u001b[0m \u001b[38;5;250m    \u001b[39m\u001b[38;5;124;03m\"\"\"Apply convolution, batch normalization and activation to input tensor.\"\"\"\u001b[39;00m\n\u001b[1;32m---> 50\u001b[0m     \u001b[38;5;28;01mreturn\u001b[39;00m \u001b[38;5;28mself\u001b[39m\u001b[38;5;241m.\u001b[39mact(\u001b[38;5;28mself\u001b[39m\u001b[38;5;241m.\u001b[39mbn(\u001b[38;5;28;43mself\u001b[39;49m\u001b[38;5;241;43m.\u001b[39;49m\u001b[43mconv\u001b[49m\u001b[43m(\u001b[49m\u001b[43mx\u001b[49m\u001b[43m)\u001b[49m))\n",
      "File \u001b[1;32m~\\AppData\\Roaming\\Python\\Python311\\site-packages\\torch\\nn\\modules\\module.py:1511\u001b[0m, in \u001b[0;36mModule._wrapped_call_impl\u001b[1;34m(self, *args, **kwargs)\u001b[0m\n\u001b[0;32m   1509\u001b[0m     \u001b[38;5;28;01mreturn\u001b[39;00m \u001b[38;5;28mself\u001b[39m\u001b[38;5;241m.\u001b[39m_compiled_call_impl(\u001b[38;5;241m*\u001b[39margs, \u001b[38;5;241m*\u001b[39m\u001b[38;5;241m*\u001b[39mkwargs)  \u001b[38;5;66;03m# type: ignore[misc]\u001b[39;00m\n\u001b[0;32m   1510\u001b[0m \u001b[38;5;28;01melse\u001b[39;00m:\n\u001b[1;32m-> 1511\u001b[0m     \u001b[38;5;28;01mreturn\u001b[39;00m \u001b[38;5;28;43mself\u001b[39;49m\u001b[38;5;241;43m.\u001b[39;49m\u001b[43m_call_impl\u001b[49m\u001b[43m(\u001b[49m\u001b[38;5;241;43m*\u001b[39;49m\u001b[43margs\u001b[49m\u001b[43m,\u001b[49m\u001b[43m \u001b[49m\u001b[38;5;241;43m*\u001b[39;49m\u001b[38;5;241;43m*\u001b[39;49m\u001b[43mkwargs\u001b[49m\u001b[43m)\u001b[49m\n",
      "File \u001b[1;32m~\\AppData\\Roaming\\Python\\Python311\\site-packages\\torch\\nn\\modules\\module.py:1520\u001b[0m, in \u001b[0;36mModule._call_impl\u001b[1;34m(self, *args, **kwargs)\u001b[0m\n\u001b[0;32m   1515\u001b[0m \u001b[38;5;66;03m# If we don't have any hooks, we want to skip the rest of the logic in\u001b[39;00m\n\u001b[0;32m   1516\u001b[0m \u001b[38;5;66;03m# this function, and just call forward.\u001b[39;00m\n\u001b[0;32m   1517\u001b[0m \u001b[38;5;28;01mif\u001b[39;00m \u001b[38;5;129;01mnot\u001b[39;00m (\u001b[38;5;28mself\u001b[39m\u001b[38;5;241m.\u001b[39m_backward_hooks \u001b[38;5;129;01mor\u001b[39;00m \u001b[38;5;28mself\u001b[39m\u001b[38;5;241m.\u001b[39m_backward_pre_hooks \u001b[38;5;129;01mor\u001b[39;00m \u001b[38;5;28mself\u001b[39m\u001b[38;5;241m.\u001b[39m_forward_hooks \u001b[38;5;129;01mor\u001b[39;00m \u001b[38;5;28mself\u001b[39m\u001b[38;5;241m.\u001b[39m_forward_pre_hooks\n\u001b[0;32m   1518\u001b[0m         \u001b[38;5;129;01mor\u001b[39;00m _global_backward_pre_hooks \u001b[38;5;129;01mor\u001b[39;00m _global_backward_hooks\n\u001b[0;32m   1519\u001b[0m         \u001b[38;5;129;01mor\u001b[39;00m _global_forward_hooks \u001b[38;5;129;01mor\u001b[39;00m _global_forward_pre_hooks):\n\u001b[1;32m-> 1520\u001b[0m     \u001b[38;5;28;01mreturn\u001b[39;00m \u001b[43mforward_call\u001b[49m\u001b[43m(\u001b[49m\u001b[38;5;241;43m*\u001b[39;49m\u001b[43margs\u001b[49m\u001b[43m,\u001b[49m\u001b[43m \u001b[49m\u001b[38;5;241;43m*\u001b[39;49m\u001b[38;5;241;43m*\u001b[39;49m\u001b[43mkwargs\u001b[49m\u001b[43m)\u001b[49m\n\u001b[0;32m   1522\u001b[0m \u001b[38;5;28;01mtry\u001b[39;00m:\n\u001b[0;32m   1523\u001b[0m     result \u001b[38;5;241m=\u001b[39m \u001b[38;5;28;01mNone\u001b[39;00m\n",
      "File \u001b[1;32m~\\AppData\\Roaming\\Python\\Python311\\site-packages\\torch\\nn\\modules\\conv.py:460\u001b[0m, in \u001b[0;36mConv2d.forward\u001b[1;34m(self, input)\u001b[0m\n\u001b[0;32m    459\u001b[0m \u001b[38;5;28;01mdef\u001b[39;00m \u001b[38;5;21mforward\u001b[39m(\u001b[38;5;28mself\u001b[39m, \u001b[38;5;28minput\u001b[39m: Tensor) \u001b[38;5;241m-\u001b[39m\u001b[38;5;241m>\u001b[39m Tensor:\n\u001b[1;32m--> 460\u001b[0m     \u001b[38;5;28;01mreturn\u001b[39;00m \u001b[38;5;28;43mself\u001b[39;49m\u001b[38;5;241;43m.\u001b[39;49m\u001b[43m_conv_forward\u001b[49m\u001b[43m(\u001b[49m\u001b[38;5;28;43minput\u001b[39;49m\u001b[43m,\u001b[49m\u001b[43m \u001b[49m\u001b[38;5;28;43mself\u001b[39;49m\u001b[38;5;241;43m.\u001b[39;49m\u001b[43mweight\u001b[49m\u001b[43m,\u001b[49m\u001b[43m \u001b[49m\u001b[38;5;28;43mself\u001b[39;49m\u001b[38;5;241;43m.\u001b[39;49m\u001b[43mbias\u001b[49m\u001b[43m)\u001b[49m\n",
      "File \u001b[1;32m~\\AppData\\Roaming\\Python\\Python311\\site-packages\\torch\\nn\\modules\\conv.py:456\u001b[0m, in \u001b[0;36mConv2d._conv_forward\u001b[1;34m(self, input, weight, bias)\u001b[0m\n\u001b[0;32m    452\u001b[0m \u001b[38;5;28;01mif\u001b[39;00m \u001b[38;5;28mself\u001b[39m\u001b[38;5;241m.\u001b[39mpadding_mode \u001b[38;5;241m!=\u001b[39m \u001b[38;5;124m'\u001b[39m\u001b[38;5;124mzeros\u001b[39m\u001b[38;5;124m'\u001b[39m:\n\u001b[0;32m    453\u001b[0m     \u001b[38;5;28;01mreturn\u001b[39;00m F\u001b[38;5;241m.\u001b[39mconv2d(F\u001b[38;5;241m.\u001b[39mpad(\u001b[38;5;28minput\u001b[39m, \u001b[38;5;28mself\u001b[39m\u001b[38;5;241m.\u001b[39m_reversed_padding_repeated_twice, mode\u001b[38;5;241m=\u001b[39m\u001b[38;5;28mself\u001b[39m\u001b[38;5;241m.\u001b[39mpadding_mode),\n\u001b[0;32m    454\u001b[0m                     weight, bias, \u001b[38;5;28mself\u001b[39m\u001b[38;5;241m.\u001b[39mstride,\n\u001b[0;32m    455\u001b[0m                     _pair(\u001b[38;5;241m0\u001b[39m), \u001b[38;5;28mself\u001b[39m\u001b[38;5;241m.\u001b[39mdilation, \u001b[38;5;28mself\u001b[39m\u001b[38;5;241m.\u001b[39mgroups)\n\u001b[1;32m--> 456\u001b[0m \u001b[38;5;28;01mreturn\u001b[39;00m \u001b[43mF\u001b[49m\u001b[38;5;241;43m.\u001b[39;49m\u001b[43mconv2d\u001b[49m\u001b[43m(\u001b[49m\u001b[38;5;28;43minput\u001b[39;49m\u001b[43m,\u001b[49m\u001b[43m \u001b[49m\u001b[43mweight\u001b[49m\u001b[43m,\u001b[49m\u001b[43m \u001b[49m\u001b[43mbias\u001b[49m\u001b[43m,\u001b[49m\u001b[43m \u001b[49m\u001b[38;5;28;43mself\u001b[39;49m\u001b[38;5;241;43m.\u001b[39;49m\u001b[43mstride\u001b[49m\u001b[43m,\u001b[49m\n\u001b[0;32m    457\u001b[0m \u001b[43m                \u001b[49m\u001b[38;5;28;43mself\u001b[39;49m\u001b[38;5;241;43m.\u001b[39;49m\u001b[43mpadding\u001b[49m\u001b[43m,\u001b[49m\u001b[43m \u001b[49m\u001b[38;5;28;43mself\u001b[39;49m\u001b[38;5;241;43m.\u001b[39;49m\u001b[43mdilation\u001b[49m\u001b[43m,\u001b[49m\u001b[43m \u001b[49m\u001b[38;5;28;43mself\u001b[39;49m\u001b[38;5;241;43m.\u001b[39;49m\u001b[43mgroups\u001b[49m\u001b[43m)\u001b[49m\n",
      "\u001b[1;31mKeyboardInterrupt\u001b[0m: "
     ]
    }
   ],
   "source": [
    "import torch\n",
    "import ultralytics\n",
    "from ultralytics import YOLO\n",
    "\n",
    "\n",
    "model = YOLO('best.pt')\n",
    "\n",
    "\n",
    "for param in model.model.parameters():\n",
    "    param.requires_grad = False\n",
    "\n",
    "# Unfreeze the last 2 layers\n",
    "for name, module in list(model.model.named_children())[-2:]:\n",
    "    for param in module.parameters():\n",
    "        param.requires_grad = True\n",
    "\n",
    "\n",
    "for name, param in model.model.named_parameters():\n",
    "    print(name, param.requires_grad)\n",
    "\n",
    "# Train the model\n",
    "results = model.train(\n",
    "    data='C:/Users/NajibS/OneDrive - Process Integration Limited/DigitalBrain/PFD-ComputerVision/process_flow_diagrams_detection_v4/train/data.yaml',\n",
    "    imgsz=1200,\n",
    "    patience=20,\n",
    "    epochs=100,\n",
    "    batch=16,\n",
    "    warmup_epochs=2,\n",
    "    optimizer='AdamW',\n",
    "    # lr=0.01, \n",
    "    save_period=2,\n",
    "    conf=0.15,\n",
    "    weight_decay=0.005,\n",
    "    dropout=0.1,\n",
    "    iou=0.2,\n",
    "    name='yolo_pil'\n",
    ")\n"
   ]
  },
  {
   "cell_type": "code",
   "execution_count": 16,
   "metadata": {},
   "outputs": [
    {
     "name": "stdout",
     "output_type": "stream",
     "text": [
      "\n",
      "image 1/1 c:\\Users\\NajibS\\OneDrive - Process Integration Limited\\DigitalBrain\\PFD-ComputerVision\\process_flow_diagrams_detection_v4\\train\\..\\train\\data\\images\\test\\PFD.jpg: 768x1216 51 items, 509.8ms\n",
      "Speed: 21.1ms preprocess, 509.8ms inference, 6.5ms postprocess per image at shape (1, 3, 768, 1216)\n",
      "\n",
      "image 1/1 c:\\Users\\NajibS\\OneDrive - Process Integration Limited\\DigitalBrain\\PFD-ComputerVision\\process_flow_diagrams_detection_v4\\train\\..\\train\\data\\images\\test\\PFD3.jpg: 608x1216 46 items, 461.4ms\n",
      "Speed: 28.6ms preprocess, 461.4ms inference, 4.0ms postprocess per image at shape (1, 3, 608, 1216)\n"
     ]
    }
   ],
   "source": [
    "import os\n",
    "import cv2\n",
    "import numpy as np\n",
    "from PIL import Image\n",
    "import ultralytics\n",
    "from ultralytics import YOLO\n",
    "\n",
    "model2 = model #YOLO('./runs/detect/yolo_pil5/weights/last.pt')\n",
    "\n",
    "def display_image_with_boxes(image_path, predictions):\n",
    "    image = cv2.imread(image_path)\n",
    "    image = cv2.cvtColor(image, cv2.COLOR_BGR2RGB)\n",
    "    \n",
    "    for pred in predictions:\n",
    "        box = pred.xyxy[0].tolist()\n",
    "        x1, y1, x2, y2 = map(int, box[:4])\n",
    "        \n",
    "\n",
    "        cv2.rectangle(image, (x1, y1), (x2, y2), (255, 0, 0), 2)\n",
    "\n",
    "\n",
    "    cv2.imshow('Image with Bounding Boxes', image)\n",
    "    cv2.waitKey(0)\n",
    "    cv2.destroyAllWindows()\n",
    "\n",
    "\n",
    "val_images_path = '../train/data/images/test'\n",
    "\n",
    "\n",
    "val_image_files = [os.path.join(val_images_path, f) for f in os.listdir(val_images_path) if f.endswith('.jpg')]\n",
    "for image_path in val_image_files:\n",
    "    results = model2.predict(image_path, save=False) \n",
    "    \n",
    "    if results and results[0].boxes:\n",
    "        predictions = results[0].boxes  \n",
    "        display_image_with_boxes(image_path, predictions)  \n",
    "    else:\n",
    "        print(f\"No predictions for {image_path}\")\n",
    "    #break  "
   ]
  },
  {
   "cell_type": "code",
   "execution_count": null,
   "metadata": {},
   "outputs": [],
   "source": []
  }
 ],
 "metadata": {
  "kernelspec": {
   "display_name": "base",
   "language": "python",
   "name": "python3"
  },
  "language_info": {
   "codemirror_mode": {
    "name": "ipython",
    "version": 3
   },
   "file_extension": ".py",
   "mimetype": "text/x-python",
   "name": "python",
   "nbconvert_exporter": "python",
   "pygments_lexer": "ipython3",
   "version": "3.11.3"
  }
 },
 "nbformat": 4,
 "nbformat_minor": 2
}
