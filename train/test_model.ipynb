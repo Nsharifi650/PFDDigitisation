{
 "cells": [
  {
   "cell_type": "code",
   "execution_count": 3,
   "metadata": {},
   "outputs": [
    {
     "name": "stdout",
     "output_type": "stream",
     "text": [
      "\n",
      "image 1/1 c:\\Users\\NajibS\\OneDrive - Process Integration Limited\\DigitalBrain\\PFD-ComputerVision\\process_flow_diagrams_detection_v4\\train\\..\\train\\data\\images\\test\\PFD.jpg: 768x1216 50 items, 373.4ms\n",
      "Speed: 18.4ms preprocess, 373.4ms inference, 0.0ms postprocess per image at shape (1, 3, 768, 1216)\n",
      "\n",
      "image 1/1 c:\\Users\\NajibS\\OneDrive - Process Integration Limited\\DigitalBrain\\PFD-ComputerVision\\process_flow_diagrams_detection_v4\\train\\..\\train\\data\\images\\test\\PFD3.jpg: 608x1216 47 items, 384.6ms\n",
      "Speed: 7.1ms preprocess, 384.6ms inference, 4.4ms postprocess per image at shape (1, 3, 608, 1216)\n"
     ]
    }
   ],
   "source": [
    "import os\n",
    "import cv2\n",
    "import numpy as np\n",
    "from PIL import Image\n",
    "import ultralytics\n",
    "from ultralytics import YOLO\n",
    "\n",
    "\n",
    "model2 = YOLO('./runs/detect/yolo_pil5/weights/last.pt')\n",
    "\n",
    "\n",
    "def display_image_with_boxes(image_path, predictions):\n",
    "    image = cv2.imread(image_path)\n",
    "    image = cv2.cvtColor(image, cv2.COLOR_BGR2RGB)\n",
    "    \n",
    "    for pred in predictions:\n",
    "        box = pred.xyxy[0].tolist()\n",
    "        x1, y1, x2, y2 = map(int, box[:4])\n",
    "        \n",
    "\n",
    "        cv2.rectangle(image, (x1, y1), (x2, y2), (255, 0, 0), 2)\n",
    "\n",
    "\n",
    "    cv2.imshow('Image with Bounding Boxes', image)\n",
    "    cv2.waitKey(0)\n",
    "    cv2.destroyAllWindows()\n",
    "\n",
    "\n",
    "val_images_path = '../train/data/images/test'\n",
    "\n",
    "\n",
    "val_image_files = [os.path.join(val_images_path, f) for f in os.listdir(val_images_path) if f.endswith('.jpg')]\n",
    "for image_path in val_image_files:\n",
    "    results = model2.predict(image_path, save=False) \n",
    "    \n",
    "    if results and results[0].boxes:\n",
    "        predictions = results[0].boxes  \n",
    "        display_image_with_boxes(image_path, predictions)  \n",
    "    else:\n",
    "        print(f\"No predictions for {image_path}\")\n",
    "    #break  "
   ]
  },
  {
   "cell_type": "code",
   "execution_count": null,
   "metadata": {},
   "outputs": [],
   "source": []
  }
 ],
 "metadata": {
  "kernelspec": {
   "display_name": "base",
   "language": "python",
   "name": "python3"
  },
  "language_info": {
   "codemirror_mode": {
    "name": "ipython",
    "version": 3
   },
   "file_extension": ".py",
   "mimetype": "text/x-python",
   "name": "python",
   "nbconvert_exporter": "python",
   "pygments_lexer": "ipython3",
   "version": "3.11.3"
  }
 },
 "nbformat": 4,
 "nbformat_minor": 2
}
